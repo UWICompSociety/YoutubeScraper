{
 "cells": [
  {
   "cell_type": "markdown",
   "metadata": {},
   "source": [
    "# Youtube Scraper"
   ]
  },
  {
   "cell_type": "markdown",
   "metadata": {},
   "source": [
    "First let us import some libraries"
   ]
  },
  {
   "cell_type": "code",
   "execution_count": 1,
   "metadata": {
    "scrolled": false
   },
   "outputs": [],
   "source": [
    "from bs4 import BeautifulSoup\n",
    "import requests\n",
    "from IPython.display import HTML"
   ]
  },
  {
   "cell_type": "markdown",
   "metadata": {},
   "source": [
    "Now we are going to use the requests library to fetch the html page for youtube"
   ]
  },
  {
   "cell_type": "code",
   "execution_count": 3,
   "metadata": {
    "scrolled": false
   },
   "outputs": [],
   "source": [
    "page_response = requests.get('https://www.youtube.com/', timeout=5)"
   ]
  },
  {
   "cell_type": "markdown",
   "metadata": {},
   "source": [
    "A response of 200 means it worked just fine"
   ]
  },
  {
   "cell_type": "code",
   "execution_count": 4,
   "metadata": {
    "scrolled": false
   },
   "outputs": [
    {
     "data": {
      "text/plain": [
       "<Response [200]>"
      ]
     },
     "execution_count": 4,
     "metadata": {},
     "output_type": "execute_result"
    }
   ],
   "source": [
    "page_response"
   ]
  },
  {
   "cell_type": "markdown",
   "metadata": {},
   "source": [
    "Now let's use beautiful soup library to parse it and get the content."
   ]
  },
  {
   "cell_type": "code",
   "execution_count": 5,
   "metadata": {
    "scrolled": false
   },
   "outputs": [],
   "source": [
    "page_content = BeautifulSoup(page_response.content, \"html.parser\")"
   ]
  },
  {
   "cell_type": "markdown",
   "metadata": {},
   "source": [
    "That's a lot to take in so let us see if we can extract all the links from the page.In html, links are specified by the a tag, we look through the a tags and see which class correponds to the videos."
   ]
  },
  {
   "cell_type": "code",
   "execution_count": 6,
   "metadata": {
    "scrolled": false
   },
   "outputs": [],
   "source": [
    "links = page_content.find_all(\"a\",{'class': \" yt-ui-ellipsis yt-ui-ellipsis-2 yt-uix-sessionlink spf-link \",'href': True})"
   ]
  },
  {
   "cell_type": "code",
   "execution_count": 7,
   "metadata": {
    "scrolled": true
   },
   "outputs": [
    {
     "data": {
      "text/plain": [
       "[<a aria-describedby=\"description-id-297339\" class=\" yt-ui-ellipsis yt-ui-ellipsis-2 yt-uix-sessionlink spf-link \" data-sessionlink=\"itct=CH0QlDUYACITCMDKgKDY2d4CFYFWmAodUY8MsyiOHjIKZy1oaWdoLXRydloPRkV3aGF0X3RvX3dhdGNo\" dir=\"ltr\" href=\"/watch?v=irVIUvDTTB0\" title=\"Migos Carpool Karaoke\">Migos Carpool Karaoke</a>,\n",
       " <a aria-describedby=\"description-id-410048\" class=\" yt-ui-ellipsis yt-ui-ellipsis-2 yt-uix-sessionlink spf-link \" data-sessionlink=\"itct=CHwQlDUYASITCMDKgKDY2d4CFYFWmAodUY8MsyiOHjIKZy1oaWdoLXRydloPRkV3aGF0X3RvX3dhdGNo\" dir=\"ltr\" href=\"/watch?v=iTOQuIqAWEQ\" title=\"Alkaline - Juggernaut\">Alkaline - Juggernaut</a>,\n",
       " <a aria-describedby=\"description-id-212187\" class=\" yt-ui-ellipsis yt-ui-ellipsis-2 yt-uix-sessionlink spf-link \" data-sessionlink=\"itct=CHsQlDUYAiITCMDKgKDY2d4CFYFWmAodUY8MsyiOHjIKZy1oaWdoLXRydloPRkV3aGF0X3RvX3dhdGNo\" dir=\"ltr\" href=\"/watch?v=WXdl3mpCbz4\" title=\"Spice - Black Hypocrisy (Official Music Video)\">Spice - Black Hypocrisy (Official Music Video)</a>,\n",
       " <a aria-describedby=\"description-id-684901\" class=\" yt-ui-ellipsis yt-ui-ellipsis-2 yt-uix-sessionlink spf-link \" data-sessionlink=\"itct=CHoQlDUYAyITCMDKgKDY2d4CFYFWmAodUY8MsyiOHjIKZy1oaWdoLXRydloPRkV3aGF0X3RvX3dhdGNo\" dir=\"ltr\" href=\"/watch?v=1roy4o4tqQM\" title=\"POKÉMON Detective Pikachu - Official Trailer #1\">POKÉMON Detective Pikachu - Official Trailer #1</a>,\n",
       " <a aria-describedby=\"description-id-731516\" class=\" yt-ui-ellipsis yt-ui-ellipsis-2 yt-uix-sessionlink spf-link \" data-sessionlink=\"itct=CHkQlDUYBCITCMDKgKDY2d4CFYFWmAodUY8MsyiOHjIKZy1oaWdoLXRydloPRkV3aGF0X3RvX3dhdGNo\" dir=\"ltr\" href=\"/watch?v=If8L0Zaskq0\" title=\"Vybz Kartel - Pretty Potion (Official Audio)\">Vybz Kartel - Pretty Potion (Official Audio)</a>,\n",
       " <a aria-describedby=\"description-id-14844\" class=\" yt-ui-ellipsis yt-ui-ellipsis-2 yt-uix-sessionlink spf-link \" data-sessionlink=\"itct=CHgQlDUYBSITCMDKgKDY2d4CFYFWmAodUY8MsyiOHjIKZy1oaWdoLXRydloPRkV3aGF0X3RvX3dhdGNo\" dir=\"ltr\" href=\"/watch?v=uRDQV5UehKg\" title=\"Hype &amp; Broke  [ Fry Irish Comedy ]\">Hype &amp; Broke  [ Fry Irish Comedy ]</a>,\n",
       " <a aria-describedby=\"description-id-757636\" class=\" yt-ui-ellipsis yt-ui-ellipsis-2 yt-uix-sessionlink spf-link \" data-sessionlink=\"itct=CHcQlDUYBiITCMDKgKDY2d4CFYFWmAodUY8MsyiOHjIKZy1oaWdoLXRydloPRkV3aGF0X3RvX3dhdGNo\" dir=\"ltr\" href=\"/watch?v=h04NnnUApaM\" title=\"30 SIMPLE KITCHEN HACKS YOU'D WISH YOU'D KNOWN SOONER\">30 SIMPLE KITCHEN HACKS YOU'D WISH YOU'D KNOWN SOONER</a>,\n",
       " <a aria-describedby=\"description-id-199027\" class=\" yt-ui-ellipsis yt-ui-ellipsis-2 yt-uix-sessionlink spf-link \" data-sessionlink=\"itct=CHYQlDUYByITCMDKgKDY2d4CFYFWmAodUY8MsyiOHjIKZy1oaWdoLXRydloPRkV3aGF0X3RvX3dhdGNo\" dir=\"ltr\" href=\"/watch?v=kN0iD0pI3o0\" title=\"Ariana Grande - breathin\">Ariana Grande - breathin</a>,\n",
       " <a aria-describedby=\"description-id-622032\" class=\" yt-ui-ellipsis yt-ui-ellipsis-2 yt-uix-sessionlink spf-link \" data-sessionlink=\"itct=CHUQlDUYCCITCMDKgKDY2d4CFYFWmAodUY8MsyiOHjIKZy1oaWdoLXRydloPRkV3aGF0X3RvX3dhdGNo\" dir=\"ltr\" href=\"/watch?v=bZDCZXtIIx0\" title=\"The X Factor UK 2018 Dalton Harris Live Shows Round 3 Full Clip S15E19\">The X Factor UK 2018 Dalton Harris Live Shows Round 3 Full Clip S15E19</a>,\n",
       " <a aria-describedby=\"description-id-74614\" class=\" yt-ui-ellipsis yt-ui-ellipsis-2 yt-uix-sessionlink spf-link \" data-sessionlink=\"itct=CHQQlDUYCSITCMDKgKDY2d4CFYFWmAodUY8MsyiOHjIKZy1oaWdoLXRydloPRkV3aGF0X3RvX3dhdGNo\" dir=\"ltr\" href=\"/watch?v=_GAfZaI3Jl0\" title=\"Stefflon Don - Senseless Remix (Official Video) ft. Tory Lanez\">Stefflon Don - Senseless Remix (Official Video) ft. Tory Lanez</a>,\n",
       " <a aria-describedby=\"description-id-215974\" class=\" yt-ui-ellipsis yt-ui-ellipsis-2 yt-uix-sessionlink spf-link \" data-sessionlink=\"itct=CHMQlDUYCiITCMDKgKDY2d4CFYFWmAodUY8MsyiOHjIKZy1oaWdoLXRydloPRkV3aGF0X3RvX3dhdGNo\" dir=\"ltr\" href=\"/watch?v=J0Vrf_y5pr4\" title=\"Tears flowed for Dionne Smith and Jay-Shenel Gordon\">Tears flowed for Dionne Smith and Jay-Shenel Gordon</a>,\n",
       " <a aria-describedby=\"description-id-132325\" class=\" yt-ui-ellipsis yt-ui-ellipsis-2 yt-uix-sessionlink spf-link \" data-sessionlink=\"itct=CHIQlDUYCyITCMDKgKDY2d4CFYFWmAodUY8MsyiOHjIKZy1oaWdoLXRydloPRkV3aGF0X3RvX3dhdGNo\" dir=\"ltr\" href=\"/watch?v=U68MJz9DrI4\" title=\"Gucci Mane, Bruno Mars, Kodak Black - Wake Up in The Sky [Official Music Video]\">Gucci Mane, Bruno Mars, Kodak Black - Wake Up in The Sky [Official Music Video]</a>,\n",
       " <a aria-describedby=\"description-id-519918\" class=\" yt-ui-ellipsis yt-ui-ellipsis-2 yt-uix-sessionlink spf-link \" data-sessionlink=\"itct=CHEQlDUYDCITCMDKgKDY2d4CFYFWmAodUY8MsyiOHjIKZy1oaWdoLXRydloPRkV3aGF0X3RvX3dhdGNo\" dir=\"ltr\" href=\"/watch?v=XXHvXBmTgRs\" title=\"My Sister 2018__Lifetime Movies 2018\">My Sister 2018__Lifetime Movies 2018</a>,\n",
       " <a aria-describedby=\"description-id-50526\" class=\" yt-ui-ellipsis yt-ui-ellipsis-2 yt-uix-sessionlink spf-link \" data-sessionlink=\"itct=CHAQlDUYDSITCMDKgKDY2d4CFYFWmAodUY8MsyiOHjIKZy1oaWdoLXRydloPRkV3aGF0X3RvX3dhdGNo\" dir=\"ltr\" href=\"/watch?v=MGlqbo8dT4A\" title=\"Spice On Lightening Her Skin For A Video, Jamaican Stereotypes, New Music + More\">Spice On Lightening Her Skin For A Video, Jamaican Stereotypes, New Music + More</a>,\n",
       " <a aria-describedby=\"description-id-726984\" class=\" yt-ui-ellipsis yt-ui-ellipsis-2 yt-uix-sessionlink spf-link \" data-sessionlink=\"itct=CG8QlDUYDiITCMDKgKDY2d4CFYFWmAodUY8MsyiOHjIKZy1oaWdoLXRydloPRkV3aGF0X3RvX3dhdGNo\" dir=\"ltr\" href=\"/watch?v=i4OJL69hld4\" title=\"Michelle Obama says her brother is still their mother's favorite\">Michelle Obama says her brother is still their mother's favorite</a>,\n",
       " <a aria-describedby=\"description-id-178624\" class=\" yt-ui-ellipsis yt-ui-ellipsis-2 yt-uix-sessionlink spf-link \" data-sessionlink=\"itct=CGsQlDUYACITCMDKgKDY2d4CFYFWmAodUY8MsyiOHjIKZy1oaWdoLXJjaFoPRkV3aGF0X3RvX3dhdGNo\" dir=\"ltr\" href=\"/watch?v=zPi1SFY_5vM\" title=\"Greedy Dog [ Fry Irish Comedy ]\">Greedy Dog [ Fry Irish Comedy ]</a>,\n",
       " <a aria-describedby=\"description-id-836198\" class=\" yt-ui-ellipsis yt-ui-ellipsis-2 yt-uix-sessionlink spf-link \" data-sessionlink=\"itct=CGoQlDUYASITCMDKgKDY2d4CFYFWmAodUY8MsyiOHjIKZy1oaWdoLXJjaFoPRkV3aGF0X3RvX3dhdGNo\" dir=\"ltr\" href=\"/watch?v=KE2U4RT2TFE\" title=\"Breaking NEWS ! Vybz Kartel Win APPEAL &amp; Due To Be Release\">Breaking NEWS ! Vybz Kartel Win APPEAL &amp; Due To Be Release</a>,\n",
       " <a aria-describedby=\"description-id-536611\" class=\" yt-ui-ellipsis yt-ui-ellipsis-2 yt-uix-sessionlink spf-link \" data-sessionlink=\"itct=CGkQlDUYAiITCMDKgKDY2d4CFYFWmAodUY8MsyiOHjIKZy1oaWdoLXJjaFoPRkV3aGF0X3RvX3dhdGNo\" dir=\"ltr\" href=\"/watch?v=aQjX3VCpxAo\" title=\"Vybz Kartel Son Vs Spice Daughter Dancehall CLASH\">Vybz Kartel Son Vs Spice Daughter Dancehall CLASH</a>,\n",
       " <a aria-describedby=\"description-id-832853\" class=\" yt-ui-ellipsis yt-ui-ellipsis-2 yt-uix-sessionlink spf-link \" data-sessionlink=\"itct=CGgQlDUYAyITCMDKgKDY2d4CFYFWmAodUY8MsyiOHjIKZy1oaWdoLXJjaFoPRkV3aGF0X3RvX3dhdGNo\" dir=\"ltr\" href=\"/watch?v=LJ0uWb4O4m8\" title=\"DUTTY BWOY Episode 6_Return of The Gaza Man\">DUTTY BWOY Episode 6_Return of The Gaza Man</a>,\n",
       " <a aria-describedby=\"description-id-807183\" class=\" yt-ui-ellipsis yt-ui-ellipsis-2 yt-uix-sessionlink spf-link \" data-sessionlink=\"itct=CGcQlDUYBCITCMDKgKDY2d4CFYFWmAodUY8MsyiOHjIKZy1oaWdoLXJjaFoPRkV3aGF0X3RvX3dhdGNo\" dir=\"ltr\" href=\"/watch?v=BmtkoFxu1Vk\" title=\"Lolaa Smiles, Vybz Kartel - Power Of Love\">Lolaa Smiles, Vybz Kartel - Power Of Love</a>,\n",
       " <a aria-describedby=\"description-id-928711\" class=\" yt-ui-ellipsis yt-ui-ellipsis-2 yt-uix-sessionlink spf-link \" data-sessionlink=\"itct=CGYQlDUYBSITCMDKgKDY2d4CFYFWmAodUY8MsyiOHjIKZy1oaWdoLXJjaFoPRkV3aGF0X3RvX3dhdGNo\" dir=\"ltr\" href=\"/watch?v=DPclZvaELOg\" title=\"Mavado vs Vybz Kartel  (Gully Vs Gaza) Throwback Mix By Djeasy\">Mavado vs Vybz Kartel  (Gully Vs Gaza) Throwback Mix By Djeasy</a>,\n",
       " <a aria-describedby=\"description-id-608690\" class=\" yt-ui-ellipsis yt-ui-ellipsis-2 yt-uix-sessionlink spf-link \" data-sessionlink=\"itct=CGUQlDUYBiITCMDKgKDY2d4CFYFWmAodUY8MsyiOHjIKZy1oaWdoLXJjaFoPRkV3aGF0X3RvX3dhdGNo\" dir=\"ltr\" href=\"/watch?v=O38szm9KllM\" title=\"DANCEHALL MIX  OCTOBER 2018  DJ GAT UP TOP BOSS ROAD MIX FT TEEJAY/VYBZ KARTEL/RYGING KING/G-STAR\">DANCEHALL MIX  OCTOBER 2018  DJ GAT UP TOP BOSS ROAD MIX FT TEEJAY/VYBZ KARTEL/RYGING KING/G-STAR</a>,\n",
       " <a aria-describedby=\"description-id-637883\" class=\" yt-ui-ellipsis yt-ui-ellipsis-2 yt-uix-sessionlink spf-link \" data-sessionlink=\"itct=CGQQlDUYByITCMDKgKDY2d4CFYFWmAodUY8MsyiOHjIKZy1oaWdoLXJjaFoPRkV3aGF0X3RvX3dhdGNo\" dir=\"ltr\" href=\"/watch?v=m8wxThxOiYQ\" title=\"🔥 Stone Love Mix 2018 ✔️ Rygin King, Masicka, PopCaan, Alkaline, Mavado, Tommy Lee, Vybz Kartel\">🔥 Stone Love Mix 2018 ✔️ Rygin King, Masicka, PopCaan, Alkaline, Mavado, Tommy Lee, Vybz Kartel</a>,\n",
       " <a aria-describedby=\"description-id-665910\" class=\" yt-ui-ellipsis yt-ui-ellipsis-2 yt-uix-sessionlink spf-link \" data-sessionlink=\"itct=CGMQlDUYCCITCMDKgKDY2d4CFYFWmAodUY8MsyiOHjIKZy1oaWdoLXJjaFoPRkV3aGF0X3RvX3dhdGNo\" dir=\"ltr\" href=\"/watch?v=W9u2l9C_hJs\" title=\"Dancehall Street | Jamaican Cartoon Series [Season 1] Kartel, Alkaline, Tommy Lee, Mavado etc.\">Dancehall Street | Jamaican Cartoon Series [Season 1] Kartel, Alkaline, Tommy Lee, Mavado etc.</a>,\n",
       " <a aria-describedby=\"description-id-137849\" class=\" yt-ui-ellipsis yt-ui-ellipsis-2 yt-uix-sessionlink spf-link \" data-sessionlink=\"itct=CGIQlDUYCSITCMDKgKDY2d4CFYFWmAodUY8MsyiOHjIKZy1oaWdoLXJjaFoPRkV3aGF0X3RvX3dhdGNo\" dir=\"ltr\" href=\"/watch?v=D9prVcyDDWU\" title=\"Dancehall Mix Nov 2018 - DJ WASS - Top Braff - Vybz Kartel,Popcaan.Alkaline &amp; More\">Dancehall Mix Nov 2018 - DJ WASS - Top Braff - Vybz Kartel,Popcaan.Alkaline &amp; More</a>,\n",
       " <a aria-describedby=\"description-id-789463\" class=\" yt-ui-ellipsis yt-ui-ellipsis-2 yt-uix-sessionlink spf-link \" data-sessionlink=\"itct=CGEQlDUYCiITCMDKgKDY2d4CFYFWmAodUY8MsyiOHjIKZy1oaWdoLXJjaFoPRkV3aGF0X3RvX3dhdGNo\" dir=\"ltr\" href=\"/watch?v=abG3OQ8eUxU\" title=\"DJ DOTCOM PRESENTS GRUNG BREAKER DANCEHALL MIX NOVEMBER   2018   EXPLICIT VERSION\">DJ DOTCOM PRESENTS GRUNG BREAKER DANCEHALL MIX NOVEMBER   2018   EXPLICIT VERSION</a>,\n",
       " <a aria-describedby=\"description-id-159358\" class=\" yt-ui-ellipsis yt-ui-ellipsis-2 yt-uix-sessionlink spf-link \" data-sessionlink=\"itct=CF0QlDUYACITCMDKgKDY2d4CFYFWmAodUY8MsyiOHjIKZy1oaWdoLXJjaFoPRkV3aGF0X3RvX3dhdGNo\" dir=\"ltr\" href=\"/watch?v=a-wLcSKgiFE\" title=\"Melhores LIKE A BOSS #8\">Melhores LIKE A BOSS #8</a>,\n",
       " <a aria-describedby=\"description-id-798936\" class=\" yt-ui-ellipsis yt-ui-ellipsis-2 yt-uix-sessionlink spf-link \" data-sessionlink=\"itct=CFwQlDUYASITCMDKgKDY2d4CFYFWmAodUY8MsyiOHjIKZy1oaWdoLXJjaFoPRkV3aGF0X3RvX3dhdGNo\" dir=\"ltr\" href=\"/watch?v=N0sYBcM3bBA\" title=\"Los Angeles Lakers vs Portland Trail Blazers Full Game Highlights | 11.14.2018, NBA Season\">Los Angeles Lakers vs Portland Trail Blazers Full Game Highlights | 11.14.2018, NBA Season</a>,\n",
       " <a aria-describedby=\"description-id-106658\" class=\" yt-ui-ellipsis yt-ui-ellipsis-2 yt-uix-sessionlink spf-link \" data-sessionlink=\"itct=CFsQlDUYAiITCMDKgKDY2d4CFYFWmAodUY8MsyiOHjIKZy1oaWdoLXJjaFoPRkV3aGF0X3RvX3dhdGNo\" dir=\"ltr\" href=\"/watch?v=i8RwFHXQXUg\" title=\"Full Kevin Durant-Draymond Green yelling video.\">Full Kevin Durant-Draymond Green yelling video.</a>,\n",
       " <a aria-describedby=\"description-id-622218\" class=\" yt-ui-ellipsis yt-ui-ellipsis-2 yt-uix-sessionlink spf-link \" data-sessionlink=\"itct=CFoQlDUYAyITCMDKgKDY2d4CFYFWmAodUY8MsyiOHjIKZy1oaWdoLXJjaFoPRkV3aGF0X3RvX3dhdGNo\" dir=\"ltr\" href=\"/watch?v=hAW-Yoza2eM\" title=\"Funniest Celebrity Audience Reactions!\">Funniest Celebrity Audience Reactions!</a>,\n",
       " <a aria-describedby=\"description-id-308265\" class=\" yt-ui-ellipsis yt-ui-ellipsis-2 yt-uix-sessionlink spf-link \" data-sessionlink=\"itct=CFkQlDUYBCITCMDKgKDY2d4CFYFWmAodUY8MsyiOHjIKZy1oaWdoLXJjaFoPRkV3aGF0X3RvX3dhdGNo\" dir=\"ltr\" href=\"/watch?v=zVq36yhpxzU\" title=\"Accidents and mistakes more fun in the history of sport\">Accidents and mistakes more fun in the history of sport</a>,\n",
       " <a aria-describedby=\"description-id-574629\" class=\" yt-ui-ellipsis yt-ui-ellipsis-2 yt-uix-sessionlink spf-link \" data-sessionlink=\"itct=CFgQlDUYBSITCMDKgKDY2d4CFYFWmAodUY8MsyiOHjIKZy1oaWdoLXJjaFoPRkV3aGF0X3RvX3dhdGNo\" dir=\"ltr\" href=\"/watch?v=5tOgJqXTiiM\" title=\"Funny OLD Throwback #TBT Basketball Vines #RIPVINE\">Funny OLD Throwback #TBT Basketball Vines #RIPVINE</a>,\n",
       " <a aria-describedby=\"description-id-463609\" class=\" yt-ui-ellipsis yt-ui-ellipsis-2 yt-uix-sessionlink spf-link \" data-sessionlink=\"itct=CFcQlDUYBiITCMDKgKDY2d4CFYFWmAodUY8MsyiOHjIKZy1oaWdoLXJjaFoPRkV3aGF0X3RvX3dhdGNo\" dir=\"ltr\" href=\"/watch?v=hl-WDxx1rpE\" title=\"12 Items LeBron James Owns That Cost More Than Your Life...\">12 Items LeBron James Owns That Cost More Than Your Life...</a>,\n",
       " <a aria-describedby=\"description-id-628650\" class=\" yt-ui-ellipsis yt-ui-ellipsis-2 yt-uix-sessionlink spf-link \" data-sessionlink=\"itct=CFYQlDUYByITCMDKgKDY2d4CFYFWmAodUY8MsyiOHjIKZy1oaWdoLXJjaFoPRkV3aGF0X3RvX3dhdGNo\" dir=\"ltr\" href=\"/watch?v=XyKegi4c7ig\" title=\"Kevin Hart Trolling NBA Players\">Kevin Hart Trolling NBA Players</a>,\n",
       " <a aria-describedby=\"description-id-244563\" class=\" yt-ui-ellipsis yt-ui-ellipsis-2 yt-uix-sessionlink spf-link \" data-sessionlink=\"itct=CFUQlDUYCCITCMDKgKDY2d4CFYFWmAodUY8MsyiOHjIKZy1oaWdoLXJjaFoPRkV3aGF0X3RvX3dhdGNo\" dir=\"ltr\" href=\"/watch?v=OA6x0C6XxcY\" title=\"This 7’7&quot; HS Junior Is Now LAMELO BALL'S Teammate. Can Robert Bobroczky Go From Spire To The NBA? 😱\">This 7’7\" HS Junior Is Now LAMELO BALL'S Teammate. Can Robert Bobroczky Go From Spire To The NBA? 😱</a>,\n",
       " <a aria-describedby=\"description-id-139352\" class=\" yt-ui-ellipsis yt-ui-ellipsis-2 yt-uix-sessionlink spf-link \" data-sessionlink=\"itct=CFMQlDUYCSITCMDKgKDY2d4CFYFWmAodUY8MsyiOHjIKZy1oaWdoLXJjaFoPRkV3aGF0X3RvX3dhdGNo\" dir=\"ltr\" href=\"/watch?v=NdkLOwYYfpA\" title=\"Best Shot Ep 1 - “We All We Got” | Binge the series with YouTube Premium\">Best Shot Ep 1 - “We All We Got” | Binge the series with YouTube Premium</a>,\n",
       " <a aria-describedby=\"description-id-434491\" class=\" yt-ui-ellipsis yt-ui-ellipsis-2 yt-uix-sessionlink spf-link \" data-sessionlink=\"itct=CFEQlDUYCiITCMDKgKDY2d4CFYFWmAodUY8MsyiOHjIKZy1oaWdoLXJjaFoPRkV3aGF0X3RvX3dhdGNo\" dir=\"ltr\" href=\"/watch?v=gzSEONnq4Wc\" title=\"Best Shot Ep 4 - “Lil Bad Choices” | Binge the series with YouTube Premium\">Best Shot Ep 4 - “Lil Bad Choices” | Binge the series with YouTube Premium</a>,\n",
       " <a aria-describedby=\"description-id-244238\" class=\" yt-ui-ellipsis yt-ui-ellipsis-2 yt-uix-sessionlink spf-link \" data-sessionlink=\"itct=CE8QlDUYCyITCMDKgKDY2d4CFYFWmAodUY8MsyiOHjIKZy1oaWdoLXJjaFoPRkV3aGF0X3RvX3dhdGNo\" dir=\"ltr\" href=\"/watch?v=TOZI2hFZEeA\" title=\"Best Shot Ep 5 - “Don’t Forget About Me” | Binge the series with YouTube Premium\">Best Shot Ep 5 - “Don’t Forget About Me” | Binge the series with YouTube Premium</a>,\n",
       " <a aria-describedby=\"description-id-67573\" class=\" yt-ui-ellipsis yt-ui-ellipsis-2 yt-uix-sessionlink spf-link \" data-sessionlink=\"itct=CE0QlDUYDCITCMDKgKDY2d4CFYFWmAodUY8MsyiOHjIKZy1oaWdoLXJjaFoPRkV3aGF0X3RvX3dhdGNo\" dir=\"ltr\" href=\"/watch?v=omTszbyuOEM\" title=\"Best Shot Ep 6 - “As One” | Binge the series with YouTube Premium\">Best Shot Ep 6 - “As One” | Binge the series with YouTube Premium</a>,\n",
       " <a aria-describedby=\"description-id-96162\" class=\" yt-ui-ellipsis yt-ui-ellipsis-2 yt-uix-sessionlink spf-link \" data-sessionlink=\"itct=CEsQlDUYDSITCMDKgKDY2d4CFYFWmAodUY8MsyiOHjIKZy1oaWdoLXJjaFoPRkV3aGF0X3RvX3dhdGNo\" dir=\"ltr\" href=\"/watch?v=v5BiGkW0XXQ\" title=\"Best Shot Ep 3 - “Better Than My Parents” | Binge the series with YouTube Premium\">Best Shot Ep 3 - “Better Than My Parents” | Binge the series with YouTube Premium</a>,\n",
       " <a aria-describedby=\"description-id-862522\" class=\" yt-ui-ellipsis yt-ui-ellipsis-2 yt-uix-sessionlink spf-link \" data-sessionlink=\"itct=CEkQlDUYDiITCMDKgKDY2d4CFYFWmAodUY8MsyiOHjIKZy1oaWdoLXJjaFoPRkV3aGF0X3RvX3dhdGNo\" dir=\"ltr\" href=\"/watch?v=9ePKZk1AxO4\" title=\"Best Shot Ep 8 - “We All We Need” | Binge the series with YouTube Premium\">Best Shot Ep 8 - “We All We Need” | Binge the series with YouTube Premium</a>,\n",
       " <a aria-describedby=\"description-id-358151\" class=\" yt-ui-ellipsis yt-ui-ellipsis-2 yt-uix-sessionlink spf-link \" data-sessionlink=\"itct=CEUQlDUYACITCMDKgKDY2d4CFYFWmAodUY8MsyiOHjIKZy1oaWdoLXJjaFoPRkV3aGF0X3RvX3dhdGNo\" dir=\"ltr\" href=\"/watch?v=01fQMZbN6tQ\" title=\"Amazing Tools That Are At Another Level\">Amazing Tools That Are At Another Level</a>,\n",
       " <a aria-describedby=\"description-id-970265\" class=\" yt-ui-ellipsis yt-ui-ellipsis-2 yt-uix-sessionlink spf-link \" data-sessionlink=\"itct=CEQQlDUYASITCMDKgKDY2d4CFYFWmAodUY8MsyiOHjIKZy1oaWdoLXJjaFoPRkV3aGF0X3RvX3dhdGNo\" dir=\"ltr\" href=\"/watch?v=_W_i6jNOvFI\" title=\"Top10 Smart Ideas\">Top10 Smart Ideas</a>,\n",
       " <a aria-describedby=\"description-id-769881\" class=\" yt-ui-ellipsis yt-ui-ellipsis-2 yt-uix-sessionlink spf-link \" data-sessionlink=\"itct=CEMQlDUYAiITCMDKgKDY2d4CFYFWmAodUY8MsyiOHjIKZy1oaWdoLXJjaFoPRkV3aGF0X3RvX3dhdGNo\" dir=\"ltr\" href=\"/watch?v=oAVbBtgFX_Y\" title=\"Rusty Pocket Knife Restoration\">Rusty Pocket Knife Restoration</a>,\n",
       " <a aria-describedby=\"description-id-456412\" class=\" yt-ui-ellipsis yt-ui-ellipsis-2 yt-uix-sessionlink spf-link \" data-sessionlink=\"itct=CEIQlDUYAyITCMDKgKDY2d4CFYFWmAodUY8MsyiOHjIKZy1oaWdoLXJjaFoPRkV3aGF0X3RvX3dhdGNo\" dir=\"ltr\" href=\"/watch?v=kvm2sqngwrE\" title=\"27 COOL DRAWING TRICKS THAT YOU WILL LOVE\">27 COOL DRAWING TRICKS THAT YOU WILL LOVE</a>,\n",
       " <a aria-describedby=\"description-id-254122\" class=\" yt-ui-ellipsis yt-ui-ellipsis-2 yt-uix-sessionlink spf-link \" data-sessionlink=\"itct=CEEQlDUYBCITCMDKgKDY2d4CFYFWmAodUY8MsyiOHjIKZy1oaWdoLXJjaFoPRkV3aGF0X3RvX3dhdGNo\" dir=\"ltr\" href=\"/watch?v=s2jWVbX7sPk\" title=\"10 Things You Did Not Know What They Are\">10 Things You Did Not Know What They Are</a>,\n",
       " <a aria-describedby=\"description-id-244509\" class=\" yt-ui-ellipsis yt-ui-ellipsis-2 yt-uix-sessionlink spf-link \" data-sessionlink=\"itct=CEAQlDUYBSITCMDKgKDY2d4CFYFWmAodUY8MsyiOHjIKZy1oaWdoLXJjaFoPRkV3aGF0X3RvX3dhdGNo\" dir=\"ltr\" href=\"/watch?v=xfHwpZVDg8U\" title=\"24 FASHION HACKS YOU MUST TRY\">24 FASHION HACKS YOU MUST TRY</a>,\n",
       " <a aria-describedby=\"description-id-851034\" class=\" yt-ui-ellipsis yt-ui-ellipsis-2 yt-uix-sessionlink spf-link \" data-sessionlink=\"itct=CD8QlDUYBiITCMDKgKDY2d4CFYFWmAodUY8MsyiOHjIKZy1oaWdoLXJjaFoPRkV3aGF0X3RvX3dhdGNo\" dir=\"ltr\" href=\"/watch?v=uMOt1OshOJ8\" title=\"25 COOL HAIRSTYLES TO MAKE UNDER A MINUTE\">25 COOL HAIRSTYLES TO MAKE UNDER A MINUTE</a>,\n",
       " <a aria-describedby=\"description-id-584081\" class=\" yt-ui-ellipsis yt-ui-ellipsis-2 yt-uix-sessionlink spf-link \" data-sessionlink=\"itct=CD4QlDUYByITCMDKgKDY2d4CFYFWmAodUY8MsyiOHjIKZy1oaWdoLXJjaFoPRkV3aGF0X3RvX3dhdGNo\" dir=\"ltr\" href=\"/watch?v=kcbRpLX-mqs\" title=\"30 IDEAS ON HOW TO PLATE FOOD LIKE A CHEF\">30 IDEAS ON HOW TO PLATE FOOD LIKE A CHEF</a>,\n",
       " <a aria-describedby=\"description-id-678721\" class=\" yt-ui-ellipsis yt-ui-ellipsis-2 yt-uix-sessionlink spf-link \" data-sessionlink=\"itct=CD0QlDUYCCITCMDKgKDY2d4CFYFWmAodUY8MsyiOHjIKZy1oaWdoLXJjaFoPRkV3aGF0X3RvX3dhdGNo\" dir=\"ltr\" href=\"/watch?v=WS7GhAp-fGM\" title=\"28 SIMPLE HACKS THAT WILL CHANGE YOUR LIFE\">28 SIMPLE HACKS THAT WILL CHANGE YOUR LIFE</a>,\n",
       " <a aria-describedby=\"description-id-47123\" class=\" yt-ui-ellipsis yt-ui-ellipsis-2 yt-uix-sessionlink spf-link \" data-sessionlink=\"itct=CDwQlDUYCSITCMDKgKDY2d4CFYFWmAodUY8MsyiOHjIKZy1oaWdoLXJjaFoPRkV3aGF0X3RvX3dhdGNo\" dir=\"ltr\" href=\"/watch?v=as1vvKV6E6s\" title=\"30 KITCHEN HACKS THAT WILL CHANGE YOUR LIFE\">30 KITCHEN HACKS THAT WILL CHANGE YOUR LIFE</a>,\n",
       " <a aria-describedby=\"description-id-166812\" class=\" yt-ui-ellipsis yt-ui-ellipsis-2 yt-uix-sessionlink spf-link \" data-sessionlink=\"itct=CDsQlDUYCiITCMDKgKDY2d4CFYFWmAodUY8MsyiOHjIKZy1oaWdoLXJjaFoPRkV3aGF0X3RvX3dhdGNo\" dir=\"ltr\" href=\"/watch?v=ZD8t7vS6w9E\" title=\"The best calligraphy lettering using a marker pen pencil\">The best calligraphy lettering using a marker pen pencil</a>,\n",
       " <a aria-describedby=\"description-id-176471\" class=\" yt-ui-ellipsis yt-ui-ellipsis-2 yt-uix-sessionlink spf-link \" data-sessionlink=\"itct=CDoQlDUYCyITCMDKgKDY2d4CFYFWmAodUY8MsyiOHjIKZy1oaWdoLXJjaFoPRkV3aGF0X3RvX3dhdGNo\" dir=\"ltr\" href=\"/watch?v=dYXaxeJBj5k\" title=\"Life-Changing Gift Wrapping Hacks\">Life-Changing Gift Wrapping Hacks</a>,\n",
       " <a aria-describedby=\"description-id-126975\" class=\" yt-ui-ellipsis yt-ui-ellipsis-2 yt-uix-sessionlink spf-link \" data-sessionlink=\"itct=CDkQlDUYDCITCMDKgKDY2d4CFYFWmAodUY8MsyiOHjIKZy1oaWdoLXJjaFoPRkV3aGF0X3RvX3dhdGNo\" dir=\"ltr\" href=\"/watch?v=9vIwcYZEgo0\" title=\"DIY Galaxy Stretchy Ice Cream\">DIY Galaxy Stretchy Ice Cream</a>,\n",
       " <a aria-describedby=\"description-id-636868\" class=\" yt-ui-ellipsis yt-ui-ellipsis-2 yt-uix-sessionlink spf-link \" data-sessionlink=\"itct=CDUQlDUYACITCMDKgKDY2d4CFYFWmAodUY8MsyiOHjIKZy1oaWdoLXJjaFoPRkV3aGF0X3RvX3dhdGNo\" dir=\"ltr\" href=\"/watch?v=n5GF7V7rEGU\" title=\"World's First Person To Drive THE DEVEL SIXTEEN\">World's First Person To Drive THE DEVEL SIXTEEN</a>,\n",
       " <a aria-describedby=\"description-id-15896\" class=\" yt-ui-ellipsis yt-ui-ellipsis-2 yt-uix-sessionlink spf-link \" data-sessionlink=\"itct=CDQQlDUYASITCMDKgKDY2d4CFYFWmAodUY8MsyiOHjIKZy1oaWdoLXJjaFoPRkV3aGF0X3RvX3dhdGNo\" dir=\"ltr\" href=\"/watch?v=Ggdd-BEtunA\" title='Rebuilding A Wrecked 2014 Dodge Viper TA \"TIME ATTACK\"'>Rebuilding A Wrecked 2014 Dodge Viper TA \"TIME ATTACK\"</a>,\n",
       " <a aria-describedby=\"description-id-858575\" class=\" yt-ui-ellipsis yt-ui-ellipsis-2 yt-uix-sessionlink spf-link \" data-sessionlink=\"itct=CDMQlDUYAiITCMDKgKDY2d4CFYFWmAodUY8MsyiOHjIKZy1oaWdoLXJjaFoPRkV3aGF0X3RvX3dhdGNo\" dir=\"ltr\" href=\"/watch?v=5gnk5eY-5ao\" title=\"HOUSE UPDATE: SOCAL FIRES BURNING EVERYTHING\">HOUSE UPDATE: SOCAL FIRES BURNING EVERYTHING</a>,\n",
       " <a aria-describedby=\"description-id-239802\" class=\" yt-ui-ellipsis yt-ui-ellipsis-2 yt-uix-sessionlink spf-link \" data-sessionlink=\"itct=CDIQlDUYAyITCMDKgKDY2d4CFYFWmAodUY8MsyiOHjIKZy1oaWdoLXJjaFoPRkV3aGF0X3RvX3dhdGNo\" dir=\"ltr\" href=\"/watch?v=zJVmxKR2_3w\" title=\"2019 Audi A8 - INTERIOR\">2019 Audi A8 - INTERIOR</a>,\n",
       " <a aria-describedby=\"description-id-690308\" class=\" yt-ui-ellipsis yt-ui-ellipsis-2 yt-uix-sessionlink spf-link \" data-sessionlink=\"itct=CDEQlDUYBCITCMDKgKDY2d4CFYFWmAodUY8MsyiOHjIKZy1oaWdoLXJjaFoPRkV3aGF0X3RvX3dhdGNo\" dir=\"ltr\" href=\"/watch?v=KBcNfIwnJK4\" title=\"Here's Why a Used Ford F-150 Raptor Is a Great Financial Decision\">Here's Why a Used Ford F-150 Raptor Is a Great Financial Decision</a>,\n",
       " <a aria-describedby=\"description-id-268493\" class=\" yt-ui-ellipsis yt-ui-ellipsis-2 yt-uix-sessionlink spf-link \" data-sessionlink=\"itct=CDAQlDUYBSITCMDKgKDY2d4CFYFWmAodUY8MsyiOHjIKZy1oaWdoLXJjaFoPRkV3aGF0X3RvX3dhdGNo\" dir=\"ltr\" href=\"/watch?v=DNh_2BHVJo4\" title=\"7 Things You Shouldn't Do In an Automatic Transmission Car\">7 Things You Shouldn't Do In an Automatic Transmission Car</a>,\n",
       " <a aria-describedby=\"description-id-210131\" class=\" yt-ui-ellipsis yt-ui-ellipsis-2 yt-uix-sessionlink spf-link \" data-sessionlink=\"itct=CC8QlDUYBiITCMDKgKDY2d4CFYFWmAodUY8MsyiOHjIKZy1oaWdoLXJjaFoPRkV3aGF0X3RvX3dhdGNo\" dir=\"ltr\" href=\"/watch?v=3KZbKiFQZD4\" title=\"Truck or Car: What's Better in The Snow?\">Truck or Car: What's Better in The Snow?</a>,\n",
       " <a aria-describedby=\"description-id-873204\" class=\" yt-ui-ellipsis yt-ui-ellipsis-2 yt-uix-sessionlink spf-link \" data-sessionlink=\"itct=CC4QlDUYByITCMDKgKDY2d4CFYFWmAodUY8MsyiOHjIKZy1oaWdoLXJjaFoPRkV3aGF0X3RvX3dhdGNo\" dir=\"ltr\" href=\"/watch?v=JRn0_U7M5gQ\" title=\"Parents Reaction to Son Restoring Their 45 Year Old Ford XA Superbird\">Parents Reaction to Son Restoring Their 45 Year Old Ford XA Superbird</a>,\n",
       " <a aria-describedby=\"description-id-409119\" class=\" yt-ui-ellipsis yt-ui-ellipsis-2 yt-uix-sessionlink spf-link \" data-sessionlink=\"itct=CC0QlDUYCCITCMDKgKDY2d4CFYFWmAodUY8MsyiOHjIKZy1oaWdoLXJjaFoPRkV3aGF0X3RvX3dhdGNo\" dir=\"ltr\" href=\"/watch?v=ESEYv86NNvw\" title=\"The 2019 Audi Q8 Is the Coolest Audi SUV\">The 2019 Audi Q8 Is the Coolest Audi SUV</a>,\n",
       " <a aria-describedby=\"description-id-989074\" class=\" yt-ui-ellipsis yt-ui-ellipsis-2 yt-uix-sessionlink spf-link \" data-sessionlink=\"itct=CCwQlDUYCSITCMDKgKDY2d4CFYFWmAodUY8MsyiOHjIKZy1oaWdoLXJjaFoPRkV3aGF0X3RvX3dhdGNo\" dir=\"ltr\" href=\"/watch?v=WDGd-lzQU4U\" title=\"EVACUATING NEW HOUSE *SOCAL FIRES*\">EVACUATING NEW HOUSE *SOCAL FIRES*</a>,\n",
       " <a aria-describedby=\"description-id-621759\" class=\" yt-ui-ellipsis yt-ui-ellipsis-2 yt-uix-sessionlink spf-link \" data-sessionlink=\"itct=CCsQlDUYCiITCMDKgKDY2d4CFYFWmAodUY8MsyiOHjIKZy1oaWdoLXJjaFoPRkV3aGF0X3RvX3dhdGNo\" dir=\"ltr\" href=\"/watch?v=LOvqztX0M5I\" title=\"SWITCHING CARS WITH GARRETT WATTS FOR THE DAY\">SWITCHING CARS WITH GARRETT WATTS FOR THE DAY</a>,\n",
       " <a aria-describedby=\"description-id-676110\" class=\" yt-ui-ellipsis yt-ui-ellipsis-2 yt-uix-sessionlink spf-link \" data-sessionlink=\"itct=CCcQlDUYACITCMDKgKDY2d4CFYFWmAodUY8MsyiOHjIKZy1oaWdoLXJjaFoPRkV3aGF0X3RvX3dhdGNo\" dir=\"ltr\" href=\"/watch?v=5nLWk7kzXgI\" title=\"Japanese Street Food - VENOMOUS SEA SNAKE Okinawa Seafood Japan\">Japanese Street Food - VENOMOUS SEA SNAKE Okinawa Seafood Japan</a>,\n",
       " <a aria-describedby=\"description-id-611075\" class=\" yt-ui-ellipsis yt-ui-ellipsis-2 yt-uix-sessionlink spf-link \" data-sessionlink=\"itct=CCYQlDUYASITCMDKgKDY2d4CFYFWmAodUY8MsyiOHjIKZy1oaWdoLXJjaFoPRkV3aGF0X3RvX3dhdGNo\" dir=\"ltr\" href=\"/watch?v=n_dUFbCrMKs\" title=\"Japanese Food - SNOW CRAB Sashimi Hotpot Grilled Seafood Kanazawa Japan\">Japanese Food - SNOW CRAB Sashimi Hotpot Grilled Seafood Kanazawa Japan</a>,\n",
       " <a aria-describedby=\"description-id-837755\" class=\" yt-ui-ellipsis yt-ui-ellipsis-2 yt-uix-sessionlink spf-link \" data-sessionlink=\"itct=CCIQlDUYACITCMDKgKDY2d4CFYFWmAodUY8MsyiOHjIKZy1oaWdoLXJjaFoPRkV3aGF0X3RvX3dhdGNo\" dir=\"ltr\" href=\"/watch?v=NzWZd0oPU9c\" title=\"Action Movies 2018 - Full Movie (Drama / Action / Mystery)\">Action Movies 2018 - Full Movie (Drama / Action / Mystery)</a>,\n",
       " <a aria-describedby=\"description-id-126237\" class=\" yt-ui-ellipsis yt-ui-ellipsis-2 yt-uix-sessionlink spf-link \" data-sessionlink=\"itct=CCEQlDUYASITCMDKgKDY2d4CFYFWmAodUY8MsyiOHjIKZy1oaWdoLXJjaFoPRkV3aGF0X3RvX3dhdGNo\" dir=\"ltr\" href=\"/watch?v=CMc9y8lz31Q\" title=\"NEW MOVIE TRAILERS 2018/2019 | Weekly #43\">NEW MOVIE TRAILERS 2018/2019 | Weekly #43</a>,\n",
       " <a aria-describedby=\"description-id-496344\" class=\" yt-ui-ellipsis yt-ui-ellipsis-2 yt-uix-sessionlink spf-link \" data-sessionlink=\"itct=CCAQlDUYAiITCMDKgKDY2d4CFYFWmAodUY8MsyiOHjIKZy1oaWdoLXJjaFoPRkV3aGF0X3RvX3dhdGNo\" dir=\"ltr\" href=\"/watch?v=S7r6aqxvhU4\" title=\"Olympus has fallen full movie\">Olympus has fallen full movie</a>,\n",
       " <a aria-describedby=\"description-id-130495\" class=\" yt-ui-ellipsis yt-ui-ellipsis-2 yt-uix-sessionlink spf-link \" data-sessionlink=\"itct=CB8QlDUYAyITCMDKgKDY2d4CFYFWmAodUY8MsyiOHjIKZy1oaWdoLXJjaFoPRkV3aGF0X3RvX3dhdGNo\" dir=\"ltr\" href=\"/watch?v=SzZi55NNFoU\" title=\"Part Time Spy with English sub. titles\">Part Time Spy with English sub. titles</a>,\n",
       " <a aria-describedby=\"description-id-600241\" class=\" yt-ui-ellipsis yt-ui-ellipsis-2 yt-uix-sessionlink spf-link \" data-sessionlink=\"itct=CB4QlDUYBCITCMDKgKDY2d4CFYFWmAodUY8MsyiOHjIKZy1oaWdoLXJjaFoPRkV3aGF0X3RvX3dhdGNo\" dir=\"ltr\" href=\"/watch?v=8jPAf6i8Uoo\" title=\"The Maid's Room - Action, Thriller| Full Length Movie | Michael Walker\">The Maid's Room - Action, Thriller| Full Length Movie | Michael Walker</a>,\n",
       " <a aria-describedby=\"description-id-541928\" class=\" yt-ui-ellipsis yt-ui-ellipsis-2 yt-uix-sessionlink spf-link \" data-sessionlink=\"itct=CB0QlDUYBSITCMDKgKDY2d4CFYFWmAodUY8MsyiOHjIKZy1oaWdoLXJjaFoPRkV3aGF0X3RvX3dhdGNo\" dir=\"ltr\" href=\"/watch?v=FVtaxYKk74M\" title=\"Documentary 2016 | The Great Escape from Alcatraz Prison\">Documentary 2016 | The Great Escape from Alcatraz Prison</a>,\n",
       " <a aria-describedby=\"description-id-426873\" class=\" yt-ui-ellipsis yt-ui-ellipsis-2 yt-uix-sessionlink spf-link \" data-sessionlink=\"itct=CBkQlDUYACITCMDKgKDY2d4CFYFWmAodUY8MsyiOHjIKZy1oaWdoLXJjaFoPRkV3aGF0X3RvX3dhdGNo\" dir=\"ltr\" href=\"/watch?v=LKaXY4IdZ40\" title=\"Whitney Houston - When You Believe (From The Prince Of Egypt)\">Whitney Houston - When You Believe (From The Prince Of Egypt)</a>,\n",
       " <a aria-describedby=\"description-id-468006\" class=\" yt-ui-ellipsis yt-ui-ellipsis-2 yt-uix-sessionlink spf-link \" data-sessionlink=\"itct=CBgQlDUYASITCMDKgKDY2d4CFYFWmAodUY8MsyiOHjIKZy1oaWdoLXJjaFoPRkV3aGF0X3RvX3dhdGNo\" dir=\"ltr\" href=\"/watch?v=yXQViqx6GMY\" title=\"Mariah Carey - All I Want For Christmas Is You\">Mariah Carey - All I Want For Christmas Is You</a>,\n",
       " <a aria-describedby=\"description-id-365363\" class=\" yt-ui-ellipsis yt-ui-ellipsis-2 yt-uix-sessionlink spf-link \" data-sessionlink=\"itct=CBcQlDUYAiITCMDKgKDY2d4CFYFWmAodUY8MsyiOHjIKZy1oaWdoLXJjaFoPRkV3aGF0X3RvX3dhdGNo\" dir=\"ltr\" href=\"/watch?v=kUjKxtJd21E\" title=\"Jason Derulo x David Guetta - Goodbye (feat. Nicki Minaj &amp; Willy William) [OFFICIAL MUSIC VIDEO]\">Jason Derulo x David Guetta - Goodbye (feat. Nicki Minaj &amp; Willy William) [OFFICIAL MUSIC VIDEO]</a>,\n",
       " <a aria-describedby=\"description-id-229779\" class=\" yt-ui-ellipsis yt-ui-ellipsis-2 yt-uix-sessionlink spf-link \" data-sessionlink=\"itct=CBYQlDUYAyITCMDKgKDY2d4CFYFWmAodUY8MsyiOHjIKZy1oaWdoLXJjaFoPRkV3aGF0X3RvX3dhdGNo\" dir=\"ltr\" href=\"/watch?v=0habxsuXW4g\" title=\"Mariah Carey - We Belong Together\">Mariah Carey - We Belong Together</a>,\n",
       " <a aria-describedby=\"description-id-529583\" class=\" yt-ui-ellipsis yt-ui-ellipsis-2 yt-uix-sessionlink spf-link \" data-sessionlink=\"itct=CBUQlDUYBCITCMDKgKDY2d4CFYFWmAodUY8MsyiOHjIKZy1oaWdoLXJjaFoPRkV3aGF0X3RvX3dhdGNo\" dir=\"ltr\" href=\"/watch?v=Tw4r_gNWesE\" title=\"Remember One Direction? All 5 Auditions X Factor UK\">Remember One Direction? All 5 Auditions X Factor UK</a>,\n",
       " <a aria-describedby=\"description-id-694601\" class=\" yt-ui-ellipsis yt-ui-ellipsis-2 yt-uix-sessionlink spf-link \" data-sessionlink=\"itct=CBQQlDUYBSITCMDKgKDY2d4CFYFWmAodUY8MsyiOHjIKZy1oaWdoLXJjaFoPRkV3aGF0X3RvX3dhdGNo\" dir=\"ltr\" href=\"/watch?v=8NonPPdQ7Yw\" title=\"Top 10 Most UNFORGETTABLE Singing Auditions ALL TIME\">Top 10 Most UNFORGETTABLE Singing Auditions ALL TIME</a>,\n",
       " <a aria-describedby=\"description-id-634195\" class=\" yt-ui-ellipsis yt-ui-ellipsis-2 yt-uix-sessionlink spf-link \" data-sessionlink=\"itct=CBMQlDUYBiITCMDKgKDY2d4CFYFWmAodUY8MsyiOHjIKZy1oaWdoLXJjaFoPRkV3aGF0X3RvX3dhdGNo\" dir=\"ltr\" href=\"/watch?v=JfGD75vHWrU\" title=\"Ella Mai - Trip (Audio)\">Ella Mai - Trip (Audio)</a>,\n",
       " <a aria-describedby=\"description-id-143402\" class=\" yt-ui-ellipsis yt-ui-ellipsis-2 yt-uix-sessionlink spf-link \" data-sessionlink=\"itct=CBIQlDUYByITCMDKgKDY2d4CFYFWmAodUY8MsyiOHjIKZy1oaWdoLXJjaFoPRkV3aGF0X3RvX3dhdGNo\" dir=\"ltr\" href=\"/watch?v=kcRWyLMVrFM\" title=\"Cardi B - Ring (feat. Kehlani) [Official Video]\">Cardi B - Ring (feat. Kehlani) [Official Video]</a>,\n",
       " <a aria-describedby=\"description-id-974427\" class=\" yt-ui-ellipsis yt-ui-ellipsis-2 yt-uix-sessionlink spf-link \" data-sessionlink=\"itct=CBEQlDUYCCITCMDKgKDY2d4CFYFWmAodUY8MsyiOHjIKZy1oaWdoLXJjaFoPRkV3aGF0X3RvX3dhdGNo\" dir=\"ltr\" href=\"/watch?v=F1B9Fk_SgI0\" title=\"Childish Gambino - Feels Like Summer\">Childish Gambino - Feels Like Summer</a>,\n",
       " <a aria-describedby=\"description-id-151193\" class=\" yt-ui-ellipsis yt-ui-ellipsis-2 yt-uix-sessionlink spf-link \" data-sessionlink=\"itct=CBAQlDUYCSITCMDKgKDY2d4CFYFWmAodUY8MsyiOHjIKZy1oaWdoLXJjaFoPRkV3aGF0X3RvX3dhdGNo\" dir=\"ltr\" href=\"/watch?v=BQU-UUnTzH0\" title=\"2000'S R&amp;B PARTY MIX ~ MIXED BY DJ XCLUSIVE G2B ~ Trey Songz, Ashanti, Chris Brown, Beyonce &amp; More\">2000'S R&amp;B PARTY MIX ~ MIXED BY DJ XCLUSIVE G2B ~ Trey Songz, Ashanti, Chris Brown, Beyonce &amp; More</a>,\n",
       " <a aria-describedby=\"description-id-330091\" class=\" yt-ui-ellipsis yt-ui-ellipsis-2 yt-uix-sessionlink spf-link \" data-sessionlink=\"itct=CA8QlDUYCiITCMDKgKDY2d4CFYFWmAodUY8MsyiOHjIKZy1oaWdoLXJjaFoPRkV3aGF0X3RvX3dhdGNo\" dir=\"ltr\" href=\"/watch?v=WdpAfLPxrUY\" title=\"Tori Kelly - Never Alone (feat. Kirk Franklin) - 49th Annual GMA Dove Awards\">Tori Kelly - Never Alone (feat. Kirk Franklin) - 49th Annual GMA Dove Awards</a>,\n",
       " <a aria-describedby=\"description-id-809362\" class=\" yt-ui-ellipsis yt-ui-ellipsis-2 yt-uix-sessionlink spf-link \" data-sessionlink=\"itct=CA4QlDUYCyITCMDKgKDY2d4CFYFWmAodUY8MsyiOHjIKZy1oaWdoLXJjaFoPRkV3aGF0X3RvX3dhdGNo\" dir=\"ltr\" href=\"/watch?v=OxsEEdH4OwE\" title=\"Wild ‘N Out Cast Put Their Boo’s On the Line 😂 | Wild 'N Out | #BoodUp\">Wild ‘N Out Cast Put Their Boo’s On the Line 😂 | Wild 'N Out | #BoodUp</a>,\n",
       " <a aria-describedby=\"description-id-548318\" class=\" yt-ui-ellipsis yt-ui-ellipsis-2 yt-uix-sessionlink spf-link \" data-sessionlink=\"itct=CA0QlDUYDCITCMDKgKDY2d4CFYFWmAodUY8MsyiOHjIKZy1oaWdoLXJjaFoPRkV3aGF0X3RvX3dhdGNo\" dir=\"ltr\" href=\"/watch?v=ZJwX2jTXWwQ\" title=\"Watching It's Everyday Bro For 10 Hours Straight\">Watching It's Everyday Bro For 10 Hours Straight</a>,\n",
       " <a aria-describedby=\"description-id-15061\" class=\" yt-ui-ellipsis yt-ui-ellipsis-2 yt-uix-sessionlink spf-link \" data-sessionlink=\"itct=CAwQlDUYDSITCMDKgKDY2d4CFYFWmAodUY8MsyiOHjIKZy1oaWdoLXJjaFoPRkV3aGF0X3RvX3dhdGNo\" dir=\"ltr\" href=\"/watch?v=0T525SRCAVY\" title=\"MARIAH CAREY IHEARTRADIO FESTIVAL FULL PERFORMANCE 2018 HD\">MARIAH CAREY IHEARTRADIO FESTIVAL FULL PERFORMANCE 2018 HD</a>]"
      ]
     },
     "execution_count": 7,
     "metadata": {},
     "output_type": "execute_result"
    }
   ],
   "source": [
    "links"
   ]
  },
  {
   "cell_type": "markdown",
   "metadata": {},
   "source": [
    "The actual link is specified in the href attribute, we simply use a list comprehension to append the youtube adresss to every link in the list."
   ]
  },
  {
   "cell_type": "code",
   "execution_count": 8,
   "metadata": {
    "scrolled": false
   },
   "outputs": [],
   "source": [
    "video_links = ['http://www.youtube.com'+link['href'] for link in links]"
   ]
  },
  {
   "cell_type": "code",
   "execution_count": 9,
   "metadata": {
    "scrolled": false
   },
   "outputs": [
    {
     "data": {
      "text/plain": [
       "['http://www.youtube.com/watch?v=irVIUvDTTB0',\n",
       " 'http://www.youtube.com/watch?v=iTOQuIqAWEQ',\n",
       " 'http://www.youtube.com/watch?v=WXdl3mpCbz4',\n",
       " 'http://www.youtube.com/watch?v=1roy4o4tqQM',\n",
       " 'http://www.youtube.com/watch?v=If8L0Zaskq0',\n",
       " 'http://www.youtube.com/watch?v=uRDQV5UehKg',\n",
       " 'http://www.youtube.com/watch?v=h04NnnUApaM',\n",
       " 'http://www.youtube.com/watch?v=kN0iD0pI3o0',\n",
       " 'http://www.youtube.com/watch?v=bZDCZXtIIx0',\n",
       " 'http://www.youtube.com/watch?v=_GAfZaI3Jl0',\n",
       " 'http://www.youtube.com/watch?v=J0Vrf_y5pr4',\n",
       " 'http://www.youtube.com/watch?v=U68MJz9DrI4',\n",
       " 'http://www.youtube.com/watch?v=XXHvXBmTgRs',\n",
       " 'http://www.youtube.com/watch?v=MGlqbo8dT4A',\n",
       " 'http://www.youtube.com/watch?v=i4OJL69hld4',\n",
       " 'http://www.youtube.com/watch?v=zPi1SFY_5vM',\n",
       " 'http://www.youtube.com/watch?v=KE2U4RT2TFE',\n",
       " 'http://www.youtube.com/watch?v=aQjX3VCpxAo',\n",
       " 'http://www.youtube.com/watch?v=LJ0uWb4O4m8',\n",
       " 'http://www.youtube.com/watch?v=BmtkoFxu1Vk',\n",
       " 'http://www.youtube.com/watch?v=DPclZvaELOg',\n",
       " 'http://www.youtube.com/watch?v=O38szm9KllM',\n",
       " 'http://www.youtube.com/watch?v=m8wxThxOiYQ',\n",
       " 'http://www.youtube.com/watch?v=W9u2l9C_hJs',\n",
       " 'http://www.youtube.com/watch?v=D9prVcyDDWU',\n",
       " 'http://www.youtube.com/watch?v=abG3OQ8eUxU',\n",
       " 'http://www.youtube.com/watch?v=a-wLcSKgiFE',\n",
       " 'http://www.youtube.com/watch?v=N0sYBcM3bBA',\n",
       " 'http://www.youtube.com/watch?v=i8RwFHXQXUg',\n",
       " 'http://www.youtube.com/watch?v=hAW-Yoza2eM',\n",
       " 'http://www.youtube.com/watch?v=zVq36yhpxzU',\n",
       " 'http://www.youtube.com/watch?v=5tOgJqXTiiM',\n",
       " 'http://www.youtube.com/watch?v=hl-WDxx1rpE',\n",
       " 'http://www.youtube.com/watch?v=XyKegi4c7ig',\n",
       " 'http://www.youtube.com/watch?v=OA6x0C6XxcY',\n",
       " 'http://www.youtube.com/watch?v=NdkLOwYYfpA',\n",
       " 'http://www.youtube.com/watch?v=gzSEONnq4Wc',\n",
       " 'http://www.youtube.com/watch?v=TOZI2hFZEeA',\n",
       " 'http://www.youtube.com/watch?v=omTszbyuOEM',\n",
       " 'http://www.youtube.com/watch?v=v5BiGkW0XXQ',\n",
       " 'http://www.youtube.com/watch?v=9ePKZk1AxO4',\n",
       " 'http://www.youtube.com/watch?v=01fQMZbN6tQ',\n",
       " 'http://www.youtube.com/watch?v=_W_i6jNOvFI',\n",
       " 'http://www.youtube.com/watch?v=oAVbBtgFX_Y',\n",
       " 'http://www.youtube.com/watch?v=kvm2sqngwrE',\n",
       " 'http://www.youtube.com/watch?v=s2jWVbX7sPk',\n",
       " 'http://www.youtube.com/watch?v=xfHwpZVDg8U',\n",
       " 'http://www.youtube.com/watch?v=uMOt1OshOJ8',\n",
       " 'http://www.youtube.com/watch?v=kcbRpLX-mqs',\n",
       " 'http://www.youtube.com/watch?v=WS7GhAp-fGM',\n",
       " 'http://www.youtube.com/watch?v=as1vvKV6E6s',\n",
       " 'http://www.youtube.com/watch?v=ZD8t7vS6w9E',\n",
       " 'http://www.youtube.com/watch?v=dYXaxeJBj5k',\n",
       " 'http://www.youtube.com/watch?v=9vIwcYZEgo0',\n",
       " 'http://www.youtube.com/watch?v=n5GF7V7rEGU',\n",
       " 'http://www.youtube.com/watch?v=Ggdd-BEtunA',\n",
       " 'http://www.youtube.com/watch?v=5gnk5eY-5ao',\n",
       " 'http://www.youtube.com/watch?v=zJVmxKR2_3w',\n",
       " 'http://www.youtube.com/watch?v=KBcNfIwnJK4',\n",
       " 'http://www.youtube.com/watch?v=DNh_2BHVJo4',\n",
       " 'http://www.youtube.com/watch?v=3KZbKiFQZD4',\n",
       " 'http://www.youtube.com/watch?v=JRn0_U7M5gQ',\n",
       " 'http://www.youtube.com/watch?v=ESEYv86NNvw',\n",
       " 'http://www.youtube.com/watch?v=WDGd-lzQU4U',\n",
       " 'http://www.youtube.com/watch?v=LOvqztX0M5I',\n",
       " 'http://www.youtube.com/watch?v=5nLWk7kzXgI',\n",
       " 'http://www.youtube.com/watch?v=n_dUFbCrMKs',\n",
       " 'http://www.youtube.com/watch?v=NzWZd0oPU9c',\n",
       " 'http://www.youtube.com/watch?v=CMc9y8lz31Q',\n",
       " 'http://www.youtube.com/watch?v=S7r6aqxvhU4',\n",
       " 'http://www.youtube.com/watch?v=SzZi55NNFoU',\n",
       " 'http://www.youtube.com/watch?v=8jPAf6i8Uoo',\n",
       " 'http://www.youtube.com/watch?v=FVtaxYKk74M',\n",
       " 'http://www.youtube.com/watch?v=LKaXY4IdZ40',\n",
       " 'http://www.youtube.com/watch?v=yXQViqx6GMY',\n",
       " 'http://www.youtube.com/watch?v=kUjKxtJd21E',\n",
       " 'http://www.youtube.com/watch?v=0habxsuXW4g',\n",
       " 'http://www.youtube.com/watch?v=Tw4r_gNWesE',\n",
       " 'http://www.youtube.com/watch?v=8NonPPdQ7Yw',\n",
       " 'http://www.youtube.com/watch?v=JfGD75vHWrU',\n",
       " 'http://www.youtube.com/watch?v=kcRWyLMVrFM',\n",
       " 'http://www.youtube.com/watch?v=F1B9Fk_SgI0',\n",
       " 'http://www.youtube.com/watch?v=BQU-UUnTzH0',\n",
       " 'http://www.youtube.com/watch?v=WdpAfLPxrUY',\n",
       " 'http://www.youtube.com/watch?v=OxsEEdH4OwE',\n",
       " 'http://www.youtube.com/watch?v=ZJwX2jTXWwQ',\n",
       " 'http://www.youtube.com/watch?v=0T525SRCAVY']"
      ]
     },
     "execution_count": 9,
     "metadata": {},
     "output_type": "execute_result"
    }
   ],
   "source": [
    "video_links"
   ]
  },
  {
   "cell_type": "markdown",
   "metadata": {},
   "source": [
    "Now we want to get the first video link and dispaly it, we do that by get extracting the first video link and we get the actual id for the video by doing some string splicing."
   ]
  },
  {
   "cell_type": "code",
   "execution_count": 10,
   "metadata": {
    "scrolled": false
   },
   "outputs": [],
   "source": [
    "first_video = video_links[0]\n",
    "video_id = first_video[first_video.find('v')+2:]"
   ]
  },
  {
   "cell_type": "code",
   "execution_count": 11,
   "metadata": {
    "scrolled": false
   },
   "outputs": [
    {
     "data": {
      "text/plain": [
       "'irVIUvDTTB0'"
      ]
     },
     "execution_count": 11,
     "metadata": {},
     "output_type": "execute_result"
    }
   ],
   "source": [
    "video_id"
   ]
  },
  {
   "cell_type": "code",
   "execution_count": 12,
   "metadata": {
    "scrolled": false
   },
   "outputs": [
    {
     "data": {
      "text/html": [
       "<iframe width=\"560\" height=\"315\" src=\"https://www.youtube.com/embed/irVIUvDTTB0?rel=0&amp;controls=0&amp;showinfo=0\" frameborder=\"0\" allowfullscreen></iframe>"
      ],
      "text/plain": [
       "<IPython.core.display.HTML object>"
      ]
     },
     "execution_count": 12,
     "metadata": {},
     "output_type": "execute_result"
    }
   ],
   "source": [
    "HTML('<iframe width=\"560\" height=\"315\" src=\"https://www.youtube.com/embed/'+video_id+'?rel=0&amp;controls=0&amp;showinfo=0\" frameborder=\"0\" allowfullscreen></iframe>')"
   ]
  },
  {
   "cell_type": "code",
   "execution_count": null,
   "metadata": {
    "scrolled": false
   },
   "outputs": [],
   "source": []
  }
 ],
 "metadata": {
  "kernelspec": {
   "display_name": "webscrape",
   "language": "python",
   "name": "webscrape"
  },
  "language_info": {
   "codemirror_mode": {
    "name": "ipython",
    "version": 3
   },
   "file_extension": ".py",
   "mimetype": "text/x-python",
   "name": "python",
   "nbconvert_exporter": "python",
   "pygments_lexer": "ipython3",
   "version": "3.6.5"
  }
 },
 "nbformat": 4,
 "nbformat_minor": 2
}
