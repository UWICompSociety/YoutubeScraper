{
 "cells": [
  {
   "cell_type": "markdown",
   "metadata": {},
   "source": [
    "# Youtube Scraper"
   ]
  },
  {
   "cell_type": "markdown",
   "metadata": {},
   "source": [
    "First let us import some libraries"
   ]
  },
  {
   "cell_type": "code",
   "execution_count": 2,
   "metadata": {
    "scrolled": false
   },
   "outputs": [],
   "source": [
    "from bs4 import BeautifulSoup\n",
    "import requests\n",
    "from IPython.display import HTML"
   ]
  },
  {
   "cell_type": "markdown",
   "metadata": {},
   "source": [
    "Now we are going to use the requests library to fetch the html page for youtube"
   ]
  },
  {
   "cell_type": "code",
   "execution_count": 3,
   "metadata": {
    "scrolled": false
   },
   "outputs": [],
   "source": [
    "page_response = requests.get('https://www.youtube.com/', timeout=5)"
   ]
  },
  {
   "cell_type": "markdown",
   "metadata": {},
   "source": [
    "A response of 200 means it worked just fine"
   ]
  },
  {
   "cell_type": "code",
   "execution_count": 4,
   "metadata": {
    "scrolled": false
   },
   "outputs": [
    {
     "data": {
      "text/plain": [
       "<Response [200]>"
      ]
     },
     "execution_count": 4,
     "metadata": {},
     "output_type": "execute_result"
    }
   ],
   "source": [
    "page_response"
   ]
  },
  {
   "cell_type": "markdown",
   "metadata": {},
   "source": [
    "Now let's use beautiful soup library to parse it and get the content."
   ]
  },
  {
   "cell_type": "code",
   "execution_count": 5,
   "metadata": {
    "scrolled": false
   },
   "outputs": [],
   "source": [
    "page_content = BeautifulSoup(page_response.content, \"html.parser\")"
   ]
  },
  {
   "cell_type": "markdown",
   "metadata": {},
   "source": [
    "That's a lot to take in so let us see if we can extract all the links from the page.In html, links are specified by the a tag, we look through the a tags and see which class correponds to the videos."
   ]
  },
  {
   "cell_type": "code",
   "execution_count": 11,
   "metadata": {
    "scrolled": false
   },
   "outputs": [],
   "source": [
    "links = page_content.find_all(\"a\",{'class': \" yt-ui-ellipsis yt-ui-ellipsis-2 yt-uix-sessionlink spf-link \",'href': True})"
   ]
  },
  {
   "cell_type": "code",
   "execution_count": 12,
   "metadata": {
    "scrolled": true
   },
   "outputs": [
    {
     "data": {
      "text/plain": [
       "[<a aria-describedby=\"description-id-246894\" class=\" yt-ui-ellipsis yt-ui-ellipsis-2 yt-uix-sessionlink spf-link \" data-sessionlink=\"itct=CIUBEJQ1GAAiEwi07rTs0dneAhWMRpgKHY2KCGAojh4yCmctaGlnaC10cnZaD0ZFd2hhdF90b193YXRjaA\" dir=\"ltr\" href=\"/watch?v=irVIUvDTTB0\" title=\"Migos Carpool Karaoke\">Migos Carpool Karaoke</a>,\n",
       " <a aria-describedby=\"description-id-308355\" class=\" yt-ui-ellipsis yt-ui-ellipsis-2 yt-uix-sessionlink spf-link \" data-sessionlink=\"itct=CIQBEJQ1GAEiEwi07rTs0dneAhWMRpgKHY2KCGAojh4yCmctaGlnaC10cnZaD0ZFd2hhdF90b193YXRjaA\" dir=\"ltr\" href=\"/watch?v=iTOQuIqAWEQ\" title=\"Alkaline - Juggernaut\">Alkaline - Juggernaut</a>,\n",
       " <a aria-describedby=\"description-id-295221\" class=\" yt-ui-ellipsis yt-ui-ellipsis-2 yt-uix-sessionlink spf-link \" data-sessionlink=\"itct=CIMBEJQ1GAIiEwi07rTs0dneAhWMRpgKHY2KCGAojh4yCmctaGlnaC10cnZaD0ZFd2hhdF90b193YXRjaA\" dir=\"ltr\" href=\"/watch?v=tDsfZVrs3j8\" title=\"Popcaan - Wine For Me (Official Video)\">Popcaan - Wine For Me (Official Video)</a>,\n",
       " <a aria-describedby=\"description-id-329385\" class=\" yt-ui-ellipsis yt-ui-ellipsis-2 yt-uix-sessionlink spf-link \" data-sessionlink=\"itct=CIIBEJQ1GAMiEwi07rTs0dneAhWMRpgKHY2KCGAojh4yCmctaGlnaC10cnZaD0ZFd2hhdF90b193YXRjaA\" dir=\"ltr\" href=\"/watch?v=WXdl3mpCbz4\" title=\"Spice - Black Hypocrisy (Official Music Video)\">Spice - Black Hypocrisy (Official Music Video)</a>,\n",
       " <a aria-describedby=\"description-id-860728\" class=\" yt-ui-ellipsis yt-ui-ellipsis-2 yt-uix-sessionlink spf-link \" data-sessionlink=\"itct=CIEBEJQ1GAQiEwi07rTs0dneAhWMRpgKHY2KCGAojh4yCmctaGlnaC10cnZaD0ZFd2hhdF90b193YXRjaA\" dir=\"ltr\" href=\"/watch?v=1roy4o4tqQM\" title=\"POKÉMON Detective Pikachu - Official Trailer #1\">POKÉMON Detective Pikachu - Official Trailer #1</a>,\n",
       " <a aria-describedby=\"description-id-313679\" class=\" yt-ui-ellipsis yt-ui-ellipsis-2 yt-uix-sessionlink spf-link \" data-sessionlink=\"itct=CIABEJQ1GAUiEwi07rTs0dneAhWMRpgKHY2KCGAojh4yCmctaGlnaC10cnZaD0ZFd2hhdF90b193YXRjaA\" dir=\"ltr\" href=\"/watch?v=If8L0Zaskq0\" title=\"Vybz Kartel - Pretty Potion (Official Audio)\">Vybz Kartel - Pretty Potion (Official Audio)</a>,\n",
       " <a aria-describedby=\"description-id-308656\" class=\" yt-ui-ellipsis yt-ui-ellipsis-2 yt-uix-sessionlink spf-link \" data-sessionlink=\"itct=CH8QlDUYBiITCLTutOzR2d4CFYxGmAodjYoIYCiOHjIKZy1oaWdoLXRydloPRkV3aGF0X3RvX3dhdGNo\" dir=\"ltr\" href=\"/watch?v=uRDQV5UehKg\" title=\"Hype &amp; Broke  [ Fry Irish Comedy ]\">Hype &amp; Broke  [ Fry Irish Comedy ]</a>,\n",
       " <a aria-describedby=\"description-id-560090\" class=\" yt-ui-ellipsis yt-ui-ellipsis-2 yt-uix-sessionlink spf-link \" data-sessionlink=\"itct=CH4QlDUYByITCLTutOzR2d4CFYxGmAodjYoIYCiOHjIKZy1oaWdoLXRydloPRkV3aGF0X3RvX3dhdGNo\" dir=\"ltr\" href=\"/watch?v=h04NnnUApaM\" title=\"30 SIMPLE KITCHEN HACKS YOU'D WISH YOU'D KNOWN SOONER\">30 SIMPLE KITCHEN HACKS YOU'D WISH YOU'D KNOWN SOONER</a>,\n",
       " <a aria-describedby=\"description-id-740616\" class=\" yt-ui-ellipsis yt-ui-ellipsis-2 yt-uix-sessionlink spf-link \" data-sessionlink=\"itct=CH0QlDUYCCITCLTutOzR2d4CFYxGmAodjYoIYCiOHjIKZy1oaWdoLXRydloPRkV3aGF0X3RvX3dhdGNo\" dir=\"ltr\" href=\"/watch?v=U68MJz9DrI4\" title=\"Gucci Mane, Bruno Mars, Kodak Black - Wake Up in The Sky [Official Music Video]\">Gucci Mane, Bruno Mars, Kodak Black - Wake Up in The Sky [Official Music Video]</a>,\n",
       " <a aria-describedby=\"description-id-606635\" class=\" yt-ui-ellipsis yt-ui-ellipsis-2 yt-uix-sessionlink spf-link \" data-sessionlink=\"itct=CHwQlDUYCSITCLTutOzR2d4CFYxGmAodjYoIYCiOHjIKZy1oaWdoLXRydloPRkV3aGF0X3RvX3dhdGNo\" dir=\"ltr\" href=\"/watch?v=kN0iD0pI3o0\" title=\"Ariana Grande - breathin\">Ariana Grande - breathin</a>,\n",
       " <a aria-describedby=\"description-id-287279\" class=\" yt-ui-ellipsis yt-ui-ellipsis-2 yt-uix-sessionlink spf-link \" data-sessionlink=\"itct=CHsQlDUYCiITCLTutOzR2d4CFYxGmAodjYoIYCiOHjIKZy1oaWdoLXRydloPRkV3aGF0X3RvX3dhdGNo\" dir=\"ltr\" href=\"/watch?v=_GAfZaI3Jl0\" title=\"Stefflon Don - Senseless Remix (Official Video) ft. Tory Lanez\">Stefflon Don - Senseless Remix (Official Video) ft. Tory Lanez</a>,\n",
       " <a aria-describedby=\"description-id-889379\" class=\" yt-ui-ellipsis yt-ui-ellipsis-2 yt-uix-sessionlink spf-link \" data-sessionlink=\"itct=CHoQlDUYCyITCLTutOzR2d4CFYxGmAodjYoIYCiOHjIKZy1oaWdoLXRydloPRkV3aGF0X3RvX3dhdGNo\" dir=\"ltr\" href=\"/watch?v=bZDCZXtIIx0\" title=\"The X Factor UK 2018 Dalton Harris Live Shows Round 3 Full Clip S15E19\">The X Factor UK 2018 Dalton Harris Live Shows Round 3 Full Clip S15E19</a>,\n",
       " <a aria-describedby=\"description-id-77248\" class=\" yt-ui-ellipsis yt-ui-ellipsis-2 yt-uix-sessionlink spf-link \" data-sessionlink=\"itct=CHkQlDUYDCITCLTutOzR2d4CFYxGmAodjYoIYCiOHjIKZy1oaWdoLXRydloPRkV3aGF0X3RvX3dhdGNo\" dir=\"ltr\" href=\"/watch?v=J0Vrf_y5pr4\" title=\"Tears flowed for Dionne Smith and Jay-Shenel Gordon\">Tears flowed for Dionne Smith and Jay-Shenel Gordon</a>,\n",
       " <a aria-describedby=\"description-id-73644\" class=\" yt-ui-ellipsis yt-ui-ellipsis-2 yt-uix-sessionlink spf-link \" data-sessionlink=\"itct=CHgQlDUYDSITCLTutOzR2d4CFYxGmAodjYoIYCiOHjIKZy1oaWdoLXRydloPRkV3aGF0X3RvX3dhdGNo\" dir=\"ltr\" href=\"/watch?v=XXHvXBmTgRs\" title=\"My Sister 2018__Lifetime Movies 2018\">My Sister 2018__Lifetime Movies 2018</a>,\n",
       " <a aria-describedby=\"description-id-500598\" class=\" yt-ui-ellipsis yt-ui-ellipsis-2 yt-uix-sessionlink spf-link \" data-sessionlink=\"itct=CHcQlDUYDiITCLTutOzR2d4CFYxGmAodjYoIYCiOHjIKZy1oaWdoLXRydloPRkV3aGF0X3RvX3dhdGNo\" dir=\"ltr\" href=\"/watch?v=MGlqbo8dT4A\" title=\"Spice On Lightening Her Skin For A Video, Jamaican Stereotypes, New Music + More\">Spice On Lightening Her Skin For A Video, Jamaican Stereotypes, New Music + More</a>,\n",
       " <a aria-describedby=\"description-id-302411\" class=\" yt-ui-ellipsis yt-ui-ellipsis-2 yt-uix-sessionlink spf-link \" data-sessionlink=\"itct=CHMQlDUYACITCLTutOzR2d4CFYxGmAodjYoIYCiOHjIKZy1oaWdoLXJjaFoPRkV3aGF0X3RvX3dhdGNo\" dir=\"ltr\" href=\"/watch?v=zPi1SFY_5vM\" title=\"Greedy Dog [ Fry Irish Comedy ]\">Greedy Dog [ Fry Irish Comedy ]</a>,\n",
       " <a aria-describedby=\"description-id-784080\" class=\" yt-ui-ellipsis yt-ui-ellipsis-2 yt-uix-sessionlink spf-link \" data-sessionlink=\"itct=CHIQlDUYASITCLTutOzR2d4CFYxGmAodjYoIYCiOHjIKZy1oaWdoLXJjaFoPRkV3aGF0X3RvX3dhdGNo\" dir=\"ltr\" href=\"/watch?v=aQjX3VCpxAo\" title=\"Vybz Kartel Son Vs Spice Daughter Dancehall CLASH\">Vybz Kartel Son Vs Spice Daughter Dancehall CLASH</a>,\n",
       " <a aria-describedby=\"description-id-624569\" class=\" yt-ui-ellipsis yt-ui-ellipsis-2 yt-uix-sessionlink spf-link \" data-sessionlink=\"itct=CHEQlDUYAiITCLTutOzR2d4CFYxGmAodjYoIYCiOHjIKZy1oaWdoLXJjaFoPRkV3aGF0X3RvX3dhdGNo\" dir=\"ltr\" href=\"/watch?v=QG9UsDW4g58\" title=\"🔥 STONE LOVE 2018 PARTY MIX ★ ROMAIN VIRGO, MAVADO, POPCAAN, VYBZ KARTEL, ALKALINE, RYGIN KING,\">🔥 STONE LOVE 2018 PARTY MIX ★ ROMAIN VIRGO, MAVADO, POPCAAN, VYBZ KARTEL, ALKALINE, RYGIN KING,</a>,\n",
       " <a aria-describedby=\"description-id-578854\" class=\" yt-ui-ellipsis yt-ui-ellipsis-2 yt-uix-sessionlink spf-link \" data-sessionlink=\"itct=CHAQlDUYAyITCLTutOzR2d4CFYxGmAodjYoIYCiOHjIKZy1oaWdoLXJjaFoPRkV3aGF0X3RvX3dhdGNo\" dir=\"ltr\" href=\"/watch?v=lM8Zep-3TI4\" title=\"DANCEHALL MIX CLEAN (JULY 2018)ALKALINE -YAADIE FIESTA,BUSY SIGNAL,,POPCAAN,RYGING KING,DJ JASON\">DANCEHALL MIX CLEAN (JULY 2018)ALKALINE -YAADIE FIESTA,BUSY SIGNAL,,POPCAAN,RYGING KING,DJ JASON</a>,\n",
       " <a aria-describedby=\"description-id-169241\" class=\" yt-ui-ellipsis yt-ui-ellipsis-2 yt-uix-sessionlink spf-link \" data-sessionlink=\"itct=CG8QlDUYBCITCLTutOzR2d4CFYxGmAodjYoIYCiOHjIKZy1oaWdoLXJjaFoPRkV3aGF0X3RvX3dhdGNo\" dir=\"ltr\" href=\"/watch?v=m8wxThxOiYQ\" title=\"🔥 Stone Love Mix 2018 ✔️ Rygin King, Masicka, PopCaan, Alkaline, Mavado, Tommy Lee, Vybz Kartel\">🔥 Stone Love Mix 2018 ✔️ Rygin King, Masicka, PopCaan, Alkaline, Mavado, Tommy Lee, Vybz Kartel</a>,\n",
       " <a aria-describedby=\"description-id-832468\" class=\" yt-ui-ellipsis yt-ui-ellipsis-2 yt-uix-sessionlink spf-link \" data-sessionlink=\"itct=CG4QlDUYBSITCLTutOzR2d4CFYxGmAodjYoIYCiOHjIKZy1oaWdoLXJjaFoPRkV3aGF0X3RvX3dhdGNo\" dir=\"ltr\" href=\"/watch?v=O38szm9KllM\" title=\"DANCEHALL MIX  OCTOBER 2018  DJ GAT UP TOP BOSS ROAD MIX FT TEEJAY/VYBZ KARTEL/RYGING KING/G-STAR\">DANCEHALL MIX  OCTOBER 2018  DJ GAT UP TOP BOSS ROAD MIX FT TEEJAY/VYBZ KARTEL/RYGING KING/G-STAR</a>,\n",
       " <a aria-describedby=\"description-id-58631\" class=\" yt-ui-ellipsis yt-ui-ellipsis-2 yt-uix-sessionlink spf-link \" data-sessionlink=\"itct=CG0QlDUYBiITCLTutOzR2d4CFYxGmAodjYoIYCiOHjIKZy1oaWdoLXJjaFoPRkV3aGF0X3RvX3dhdGNo\" dir=\"ltr\" href=\"/watch?v=D9prVcyDDWU\" title=\"Dancehall Mix Nov 2018 - DJ WASS - Top Braff - Vybz Kartel,Popcaan.Alkaline &amp; More\">Dancehall Mix Nov 2018 - DJ WASS - Top Braff - Vybz Kartel,Popcaan.Alkaline &amp; More</a>,\n",
       " <a aria-describedby=\"description-id-310392\" class=\" yt-ui-ellipsis yt-ui-ellipsis-2 yt-uix-sessionlink spf-link \" data-sessionlink=\"itct=CGwQlDUYByITCLTutOzR2d4CFYxGmAodjYoIYCiOHjIKZy1oaWdoLXJjaFoPRkV3aGF0X3RvX3dhdGNo\" dir=\"ltr\" href=\"/watch?v=abG3OQ8eUxU\" title=\"DJ DOTCOM PRESENTS GRUNG BREAKER DANCEHALL MIX NOVEMBER   2018   EXPLICIT VERSION\">DJ DOTCOM PRESENTS GRUNG BREAKER DANCEHALL MIX NOVEMBER   2018   EXPLICIT VERSION</a>,\n",
       " <a aria-describedby=\"description-id-605186\" class=\" yt-ui-ellipsis yt-ui-ellipsis-2 yt-uix-sessionlink spf-link \" data-sessionlink=\"itct=CGgQlDUYACITCLTutOzR2d4CFYxGmAodjYoIYCiOHjIKZy1oaWdoLXJjaFoPRkV3aGF0X3RvX3dhdGNo\" dir=\"ltr\" href=\"/watch?v=a-wLcSKgiFE\" title=\"Melhores LIKE A BOSS #8\">Melhores LIKE A BOSS #8</a>,\n",
       " <a aria-describedby=\"description-id-410847\" class=\" yt-ui-ellipsis yt-ui-ellipsis-2 yt-uix-sessionlink spf-link \" data-sessionlink=\"itct=CGcQlDUYASITCLTutOzR2d4CFYxGmAodjYoIYCiOHjIKZy1oaWdoLXJjaFoPRkV3aGF0X3RvX3dhdGNo\" dir=\"ltr\" href=\"/watch?v=i8RwFHXQXUg\" title=\"Full Kevin Durant-Draymond Green yelling video.\">Full Kevin Durant-Draymond Green yelling video.</a>,\n",
       " <a aria-describedby=\"description-id-954519\" class=\" yt-ui-ellipsis yt-ui-ellipsis-2 yt-uix-sessionlink spf-link \" data-sessionlink=\"itct=CGYQlDUYAiITCLTutOzR2d4CFYxGmAodjYoIYCiOHjIKZy1oaWdoLXJjaFoPRkV3aGF0X3RvX3dhdGNo\" dir=\"ltr\" href=\"/watch?v=N0sYBcM3bBA\" title=\"Los Angeles Lakers vs Portland Trail Blazers Full Game Highlights | 11.14.2018, NBA Season\">Los Angeles Lakers vs Portland Trail Blazers Full Game Highlights | 11.14.2018, NBA Season</a>,\n",
       " <a aria-describedby=\"description-id-398488\" class=\" yt-ui-ellipsis yt-ui-ellipsis-2 yt-uix-sessionlink spf-link \" data-sessionlink=\"itct=CGUQlDUYAyITCLTutOzR2d4CFYxGmAodjYoIYCiOHjIKZy1oaWdoLXJjaFoPRkV3aGF0X3RvX3dhdGNo\" dir=\"ltr\" href=\"/watch?v=zVq36yhpxzU\" title=\"Accidents and mistakes more fun in the history of sport\">Accidents and mistakes more fun in the history of sport</a>,\n",
       " <a aria-describedby=\"description-id-491969\" class=\" yt-ui-ellipsis yt-ui-ellipsis-2 yt-uix-sessionlink spf-link \" data-sessionlink=\"itct=CGQQlDUYBCITCLTutOzR2d4CFYxGmAodjYoIYCiOHjIKZy1oaWdoLXJjaFoPRkV3aGF0X3RvX3dhdGNo\" dir=\"ltr\" href=\"/watch?v=hAW-Yoza2eM\" title=\"Funniest Celebrity Audience Reactions!\">Funniest Celebrity Audience Reactions!</a>,\n",
       " <a aria-describedby=\"description-id-53117\" class=\" yt-ui-ellipsis yt-ui-ellipsis-2 yt-uix-sessionlink spf-link \" data-sessionlink=\"itct=CGMQlDUYBSITCLTutOzR2d4CFYxGmAodjYoIYCiOHjIKZy1oaWdoLXJjaFoPRkV3aGF0X3RvX3dhdGNo\" dir=\"ltr\" href=\"/watch?v=5tOgJqXTiiM\" title=\"Funny OLD Throwback #TBT Basketball Vines #RIPVINE\">Funny OLD Throwback #TBT Basketball Vines #RIPVINE</a>,\n",
       " <a aria-describedby=\"description-id-991482\" class=\" yt-ui-ellipsis yt-ui-ellipsis-2 yt-uix-sessionlink spf-link \" data-sessionlink=\"itct=CGIQlDUYBiITCLTutOzR2d4CFYxGmAodjYoIYCiOHjIKZy1oaWdoLXJjaFoPRkV3aGF0X3RvX3dhdGNo\" dir=\"ltr\" href=\"/watch?v=hl-WDxx1rpE\" title=\"12 Items LeBron James Owns That Cost More Than Your Life...\">12 Items LeBron James Owns That Cost More Than Your Life...</a>,\n",
       " <a aria-describedby=\"description-id-982687\" class=\" yt-ui-ellipsis yt-ui-ellipsis-2 yt-uix-sessionlink spf-link \" data-sessionlink=\"itct=CGEQlDUYByITCLTutOzR2d4CFYxGmAodjYoIYCiOHjIKZy1oaWdoLXJjaFoPRkV3aGF0X3RvX3dhdGNo\" dir=\"ltr\" href=\"/watch?v=XyKegi4c7ig\" title=\"Kevin Hart Trolling NBA Players\">Kevin Hart Trolling NBA Players</a>,\n",
       " <a aria-describedby=\"description-id-669354\" class=\" yt-ui-ellipsis yt-ui-ellipsis-2 yt-uix-sessionlink spf-link \" data-sessionlink=\"itct=CGAQlDUYCCITCLTutOzR2d4CFYxGmAodjYoIYCiOHjIKZy1oaWdoLXJjaFoPRkV3aGF0X3RvX3dhdGNo\" dir=\"ltr\" href=\"/watch?v=OA6x0C6XxcY\" title=\"This 7’7&quot; HS Junior Is Now LAMELO BALL'S Teammate. Can Robert Bobroczky Go From Spire To The NBA? 😱\">This 7’7\" HS Junior Is Now LAMELO BALL'S Teammate. Can Robert Bobroczky Go From Spire To The NBA? 😱</a>,\n",
       " <a aria-describedby=\"description-id-126807\" class=\" yt-ui-ellipsis yt-ui-ellipsis-2 yt-uix-sessionlink spf-link \" data-sessionlink=\"itct=CF4QlDUYCSITCLTutOzR2d4CFYxGmAodjYoIYCiOHjIKZy1oaWdoLXJjaFoPRkV3aGF0X3RvX3dhdGNo\" dir=\"ltr\" href=\"/watch?v=NdkLOwYYfpA\" title=\"Best Shot Ep 1 - “We All We Got” | Binge the series with YouTube Premium\">Best Shot Ep 1 - “We All We Got” | Binge the series with YouTube Premium</a>,\n",
       " <a aria-describedby=\"description-id-538636\" class=\" yt-ui-ellipsis yt-ui-ellipsis-2 yt-uix-sessionlink spf-link \" data-sessionlink=\"itct=CFwQlDUYCiITCLTutOzR2d4CFYxGmAodjYoIYCiOHjIKZy1oaWdoLXJjaFoPRkV3aGF0X3RvX3dhdGNo\" dir=\"ltr\" href=\"/watch?v=gzSEONnq4Wc\" title=\"Best Shot Ep 4 - “Lil Bad Choices” | Binge the series with YouTube Premium\">Best Shot Ep 4 - “Lil Bad Choices” | Binge the series with YouTube Premium</a>,\n",
       " <a aria-describedby=\"description-id-283590\" class=\" yt-ui-ellipsis yt-ui-ellipsis-2 yt-uix-sessionlink spf-link \" data-sessionlink=\"itct=CFoQlDUYCyITCLTutOzR2d4CFYxGmAodjYoIYCiOHjIKZy1oaWdoLXJjaFoPRkV3aGF0X3RvX3dhdGNo\" dir=\"ltr\" href=\"/watch?v=TOZI2hFZEeA\" title=\"Best Shot Ep 5 - “Don’t Forget About Me” | Binge the series with YouTube Premium\">Best Shot Ep 5 - “Don’t Forget About Me” | Binge the series with YouTube Premium</a>,\n",
       " <a aria-describedby=\"description-id-200186\" class=\" yt-ui-ellipsis yt-ui-ellipsis-2 yt-uix-sessionlink spf-link \" data-sessionlink=\"itct=CFgQlDUYDCITCLTutOzR2d4CFYxGmAodjYoIYCiOHjIKZy1oaWdoLXJjaFoPRkV3aGF0X3RvX3dhdGNo\" dir=\"ltr\" href=\"/watch?v=v5BiGkW0XXQ\" title=\"Best Shot Ep 3 - “Better Than My Parents” | Binge the series with YouTube Premium\">Best Shot Ep 3 - “Better Than My Parents” | Binge the series with YouTube Premium</a>,\n",
       " <a aria-describedby=\"description-id-130673\" class=\" yt-ui-ellipsis yt-ui-ellipsis-2 yt-uix-sessionlink spf-link \" data-sessionlink=\"itct=CFYQlDUYDSITCLTutOzR2d4CFYxGmAodjYoIYCiOHjIKZy1oaWdoLXJjaFoPRkV3aGF0X3RvX3dhdGNo\" dir=\"ltr\" href=\"/watch?v=omTszbyuOEM\" title=\"Best Shot Ep 6 - “As One” | Binge the series with YouTube Premium\">Best Shot Ep 6 - “As One” | Binge the series with YouTube Premium</a>,\n",
       " <a aria-describedby=\"description-id-20926\" class=\" yt-ui-ellipsis yt-ui-ellipsis-2 yt-uix-sessionlink spf-link \" data-sessionlink=\"itct=CFQQlDUYDiITCLTutOzR2d4CFYxGmAodjYoIYCiOHjIKZy1oaWdoLXJjaFoPRkV3aGF0X3RvX3dhdGNo\" dir=\"ltr\" href=\"/watch?v=rckHSUhcXec\" title=\"Best Shot Ep 7 - “Where You Wanna Be” | Binge the series with YouTube Premium\">Best Shot Ep 7 - “Where You Wanna Be” | Binge the series with YouTube Premium</a>,\n",
       " <a aria-describedby=\"description-id-96389\" class=\" yt-ui-ellipsis yt-ui-ellipsis-2 yt-uix-sessionlink spf-link \" data-sessionlink=\"itct=CFAQlDUYACITCLTutOzR2d4CFYxGmAodjYoIYCiOHjIKZy1oaWdoLXJjaFoPRkV3aGF0X3RvX3dhdGNo\" dir=\"ltr\" href=\"/watch?v=01fQMZbN6tQ\" title=\"Amazing Tools That Are At Another Level\">Amazing Tools That Are At Another Level</a>,\n",
       " <a aria-describedby=\"description-id-666666\" class=\" yt-ui-ellipsis yt-ui-ellipsis-2 yt-uix-sessionlink spf-link \" data-sessionlink=\"itct=CE8QlDUYASITCLTutOzR2d4CFYxGmAodjYoIYCiOHjIKZy1oaWdoLXJjaFoPRkV3aGF0X3RvX3dhdGNo\" dir=\"ltr\" href=\"/watch?v=9wN2RcAPhqA\" title=\"Flipbook LINE Challenge - What can I do with just a line?\">Flipbook LINE Challenge - What can I do with just a line?</a>,\n",
       " <a aria-describedby=\"description-id-505952\" class=\" yt-ui-ellipsis yt-ui-ellipsis-2 yt-uix-sessionlink spf-link \" data-sessionlink=\"itct=CE4QlDUYAiITCLTutOzR2d4CFYxGmAodjYoIYCiOHjIKZy1oaWdoLXJjaFoPRkV3aGF0X3RvX3dhdGNo\" dir=\"ltr\" href=\"/watch?v=JoLEIiza9Bc\" title=\"Darker Than Vantablack—Absorbs 99.9923% of Light\">Darker Than Vantablack—Absorbs 99.9923% of Light</a>,\n",
       " <a aria-describedby=\"description-id-232922\" class=\" yt-ui-ellipsis yt-ui-ellipsis-2 yt-uix-sessionlink spf-link \" data-sessionlink=\"itct=CE0QlDUYAyITCLTutOzR2d4CFYxGmAodjYoIYCiOHjIKZy1oaWdoLXJjaFoPRkV3aGF0X3RvX3dhdGNo\" dir=\"ltr\" href=\"/watch?v=WGuFofNF1Pk\" title=\"32 Secret Combinations on Your Keyboard\">32 Secret Combinations on Your Keyboard</a>,\n",
       " <a aria-describedby=\"description-id-7428\" class=\" yt-ui-ellipsis yt-ui-ellipsis-2 yt-uix-sessionlink spf-link \" data-sessionlink=\"itct=CEwQlDUYBCITCLTutOzR2d4CFYxGmAodjYoIYCiOHjIKZy1oaWdoLXJjaFoPRkV3aGF0X3RvX3dhdGNo\" dir=\"ltr\" href=\"/watch?v=NZgf1VsbsO4\" title=\"15 Amazing Phone Functions You Had No Idea Existed\">15 Amazing Phone Functions You Had No Idea Existed</a>,\n",
       " <a aria-describedby=\"description-id-339698\" class=\" yt-ui-ellipsis yt-ui-ellipsis-2 yt-uix-sessionlink spf-link \" data-sessionlink=\"itct=CEgQlDUYACITCLTutOzR2d4CFYxGmAodjYoIYCiOHjIKZy1oaWdoLXJjaFoPRkV3aGF0X3RvX3dhdGNo\" dir=\"ltr\" href=\"/watch?v=n5GF7V7rEGU\" title=\"World's First Person To Drive THE DEVEL SIXTEEN\">World's First Person To Drive THE DEVEL SIXTEEN</a>,\n",
       " <a aria-describedby=\"description-id-601611\" class=\" yt-ui-ellipsis yt-ui-ellipsis-2 yt-uix-sessionlink spf-link \" data-sessionlink=\"itct=CEcQlDUYASITCLTutOzR2d4CFYxGmAodjYoIYCiOHjIKZy1oaWdoLXJjaFoPRkV3aGF0X3RvX3dhdGNo\" dir=\"ltr\" href=\"/watch?v=5gnk5eY-5ao\" title=\"HOUSE UPDATE: SOCAL FIRES BURNING EVERYTHING\">HOUSE UPDATE: SOCAL FIRES BURNING EVERYTHING</a>,\n",
       " <a aria-describedby=\"description-id-26224\" class=\" yt-ui-ellipsis yt-ui-ellipsis-2 yt-uix-sessionlink spf-link \" data-sessionlink=\"itct=CEYQlDUYAiITCLTutOzR2d4CFYxGmAodjYoIYCiOHjIKZy1oaWdoLXJjaFoPRkV3aGF0X3RvX3dhdGNo\" dir=\"ltr\" href=\"/watch?v=KBcNfIwnJK4\" title=\"Here's Why a Used Ford F-150 Raptor Is a Great Financial Decision\">Here's Why a Used Ford F-150 Raptor Is a Great Financial Decision</a>,\n",
       " <a aria-describedby=\"description-id-435643\" class=\" yt-ui-ellipsis yt-ui-ellipsis-2 yt-uix-sessionlink spf-link \" data-sessionlink=\"itct=CEUQlDUYAyITCLTutOzR2d4CFYxGmAodjYoIYCiOHjIKZy1oaWdoLXJjaFoPRkV3aGF0X3RvX3dhdGNo\" dir=\"ltr\" href=\"/watch?v=zJVmxKR2_3w\" title=\"2019 Audi A8 - INTERIOR\">2019 Audi A8 - INTERIOR</a>,\n",
       " <a aria-describedby=\"description-id-237528\" class=\" yt-ui-ellipsis yt-ui-ellipsis-2 yt-uix-sessionlink spf-link \" data-sessionlink=\"itct=CEQQlDUYBCITCLTutOzR2d4CFYxGmAodjYoIYCiOHjIKZy1oaWdoLXJjaFoPRkV3aGF0X3RvX3dhdGNo\" dir=\"ltr\" href=\"/watch?v=DNh_2BHVJo4\" title=\"7 Things You Shouldn't Do In an Automatic Transmission Car\">7 Things You Shouldn't Do In an Automatic Transmission Car</a>,\n",
       " <a aria-describedby=\"description-id-627310\" class=\" yt-ui-ellipsis yt-ui-ellipsis-2 yt-uix-sessionlink spf-link \" data-sessionlink=\"itct=CEMQlDUYBSITCLTutOzR2d4CFYxGmAodjYoIYCiOHjIKZy1oaWdoLXJjaFoPRkV3aGF0X3RvX3dhdGNo\" dir=\"ltr\" href=\"/watch?v=Ggdd-BEtunA\" title='Rebuilding A Wrecked 2014 Dodge Viper TA \"TRACK ATTACK\"'>Rebuilding A Wrecked 2014 Dodge Viper TA \"TRACK ATTACK\"</a>,\n",
       " <a aria-describedby=\"description-id-164626\" class=\" yt-ui-ellipsis yt-ui-ellipsis-2 yt-uix-sessionlink spf-link \" data-sessionlink=\"itct=CEIQlDUYBiITCLTutOzR2d4CFYxGmAodjYoIYCiOHjIKZy1oaWdoLXJjaFoPRkV3aGF0X3RvX3dhdGNo\" dir=\"ltr\" href=\"/watch?v=3KZbKiFQZD4\" title=\"Truck or Car: What's Better in The Snow?\">Truck or Car: What's Better in The Snow?</a>,\n",
       " <a aria-describedby=\"description-id-292255\" class=\" yt-ui-ellipsis yt-ui-ellipsis-2 yt-uix-sessionlink spf-link \" data-sessionlink=\"itct=CEEQlDUYByITCLTutOzR2d4CFYxGmAodjYoIYCiOHjIKZy1oaWdoLXJjaFoPRkV3aGF0X3RvX3dhdGNo\" dir=\"ltr\" href=\"/watch?v=ESEYv86NNvw\" title=\"The 2019 Audi Q8 Is the Coolest Audi SUV\">The 2019 Audi Q8 Is the Coolest Audi SUV</a>,\n",
       " <a aria-describedby=\"description-id-413696\" class=\" yt-ui-ellipsis yt-ui-ellipsis-2 yt-uix-sessionlink spf-link \" data-sessionlink=\"itct=CEAQlDUYCCITCLTutOzR2d4CFYxGmAodjYoIYCiOHjIKZy1oaWdoLXJjaFoPRkV3aGF0X3RvX3dhdGNo\" dir=\"ltr\" href=\"/watch?v=JRn0_U7M5gQ\" title=\"Parents Reaction to Son Restoring Their 45 Year Old Ford XA Superbird\">Parents Reaction to Son Restoring Their 45 Year Old Ford XA Superbird</a>,\n",
       " <a aria-describedby=\"description-id-639030\" class=\" yt-ui-ellipsis yt-ui-ellipsis-2 yt-uix-sessionlink spf-link \" data-sessionlink=\"itct=CD8QlDUYCSITCLTutOzR2d4CFYxGmAodjYoIYCiOHjIKZy1oaWdoLXJjaFoPRkV3aGF0X3RvX3dhdGNo\" dir=\"ltr\" href=\"/watch?v=WDGd-lzQU4U\" title=\"EVACUATING NEW HOUSE *SOCAL FIRES*\">EVACUATING NEW HOUSE *SOCAL FIRES*</a>,\n",
       " <a aria-describedby=\"description-id-768923\" class=\" yt-ui-ellipsis yt-ui-ellipsis-2 yt-uix-sessionlink spf-link \" data-sessionlink=\"itct=CD4QlDUYCiITCLTutOzR2d4CFYxGmAodjYoIYCiOHjIKZy1oaWdoLXJjaFoPRkV3aGF0X3RvX3dhdGNo\" dir=\"ltr\" href=\"/watch?v=LOvqztX0M5I\" title=\"SWITCHING CARS WITH GARRETT WATTS FOR THE DAY\">SWITCHING CARS WITH GARRETT WATTS FOR THE DAY</a>,\n",
       " <a aria-describedby=\"description-id-165861\" class=\" yt-ui-ellipsis yt-ui-ellipsis-2 yt-uix-sessionlink spf-link \" data-sessionlink=\"itct=CDoQlDUYACITCLTutOzR2d4CFYxGmAodjYoIYCiOHjIKZy1oaWdoLXJjaFoPRkV3aGF0X3RvX3dhdGNo\" dir=\"ltr\" href=\"/watch?v=_W_i6jNOvFI\" title=\"Top10 Smart Ideas\">Top10 Smart Ideas</a>,\n",
       " <a aria-describedby=\"description-id-915036\" class=\" yt-ui-ellipsis yt-ui-ellipsis-2 yt-uix-sessionlink spf-link \" data-sessionlink=\"itct=CDkQlDUYASITCLTutOzR2d4CFYxGmAodjYoIYCiOHjIKZy1oaWdoLXJjaFoPRkV3aGF0X3RvX3dhdGNo\" dir=\"ltr\" href=\"/watch?v=s2jWVbX7sPk\" title=\"10 Things You Did Not Know What They Are\">10 Things You Did Not Know What They Are</a>,\n",
       " <a aria-describedby=\"description-id-261489\" class=\" yt-ui-ellipsis yt-ui-ellipsis-2 yt-uix-sessionlink spf-link \" data-sessionlink=\"itct=CDgQlDUYAiITCLTutOzR2d4CFYxGmAodjYoIYCiOHjIKZy1oaWdoLXJjaFoPRkV3aGF0X3RvX3dhdGNo\" dir=\"ltr\" href=\"/watch?v=kvm2sqngwrE\" title=\"27 COOL DRAWING TRICKS THAT YOU WILL LOVE\">27 COOL DRAWING TRICKS THAT YOU WILL LOVE</a>,\n",
       " <a aria-describedby=\"description-id-526112\" class=\" yt-ui-ellipsis yt-ui-ellipsis-2 yt-uix-sessionlink spf-link \" data-sessionlink=\"itct=CDcQlDUYAyITCLTutOzR2d4CFYxGmAodjYoIYCiOHjIKZy1oaWdoLXJjaFoPRkV3aGF0X3RvX3dhdGNo\" dir=\"ltr\" href=\"/watch?v=oAVbBtgFX_Y\" title=\"Rusty Pocket Knife Restoration\">Rusty Pocket Knife Restoration</a>,\n",
       " <a aria-describedby=\"description-id-101177\" class=\" yt-ui-ellipsis yt-ui-ellipsis-2 yt-uix-sessionlink spf-link \" data-sessionlink=\"itct=CDYQlDUYBCITCLTutOzR2d4CFYxGmAodjYoIYCiOHjIKZy1oaWdoLXJjaFoPRkV3aGF0X3RvX3dhdGNo\" dir=\"ltr\" href=\"/watch?v=xfHwpZVDg8U\" title=\"24 FASHION HACKS YOU MUST TRY\">24 FASHION HACKS YOU MUST TRY</a>,\n",
       " <a aria-describedby=\"description-id-968807\" class=\" yt-ui-ellipsis yt-ui-ellipsis-2 yt-uix-sessionlink spf-link \" data-sessionlink=\"itct=CDUQlDUYBSITCLTutOzR2d4CFYxGmAodjYoIYCiOHjIKZy1oaWdoLXJjaFoPRkV3aGF0X3RvX3dhdGNo\" dir=\"ltr\" href=\"/watch?v=uMOt1OshOJ8\" title=\"25 COOL HAIRSTYLES TO MAKE UNDER A MINUTE\">25 COOL HAIRSTYLES TO MAKE UNDER A MINUTE</a>,\n",
       " <a aria-describedby=\"description-id-999109\" class=\" yt-ui-ellipsis yt-ui-ellipsis-2 yt-uix-sessionlink spf-link \" data-sessionlink=\"itct=CDQQlDUYBiITCLTutOzR2d4CFYxGmAodjYoIYCiOHjIKZy1oaWdoLXJjaFoPRkV3aGF0X3RvX3dhdGNo\" dir=\"ltr\" href=\"/watch?v=kcbRpLX-mqs\" title=\"30 IDEAS ON HOW TO PLATE FOOD LIKE A CHEF\">30 IDEAS ON HOW TO PLATE FOOD LIKE A CHEF</a>,\n",
       " <a aria-describedby=\"description-id-705424\" class=\" yt-ui-ellipsis yt-ui-ellipsis-2 yt-uix-sessionlink spf-link \" data-sessionlink=\"itct=CDMQlDUYByITCLTutOzR2d4CFYxGmAodjYoIYCiOHjIKZy1oaWdoLXJjaFoPRkV3aGF0X3RvX3dhdGNo\" dir=\"ltr\" href=\"/watch?v=WS7GhAp-fGM\" title=\"28 SIMPLE HACKS THAT WILL CHANGE YOUR LIFE\">28 SIMPLE HACKS THAT WILL CHANGE YOUR LIFE</a>,\n",
       " <a aria-describedby=\"description-id-299977\" class=\" yt-ui-ellipsis yt-ui-ellipsis-2 yt-uix-sessionlink spf-link \" data-sessionlink=\"itct=CDIQlDUYCCITCLTutOzR2d4CFYxGmAodjYoIYCiOHjIKZy1oaWdoLXJjaFoPRkV3aGF0X3RvX3dhdGNo\" dir=\"ltr\" href=\"/watch?v=as1vvKV6E6s\" title=\"30 KITCHEN HACKS THAT WILL CHANGE YOUR LIFE\">30 KITCHEN HACKS THAT WILL CHANGE YOUR LIFE</a>,\n",
       " <a aria-describedby=\"description-id-31216\" class=\" yt-ui-ellipsis yt-ui-ellipsis-2 yt-uix-sessionlink spf-link \" data-sessionlink=\"itct=CDEQlDUYCSITCLTutOzR2d4CFYxGmAodjYoIYCiOHjIKZy1oaWdoLXJjaFoPRkV3aGF0X3RvX3dhdGNo\" dir=\"ltr\" href=\"/watch?v=ZD8t7vS6w9E\" title=\"The best calligraphy lettering using a marker pen pencil\">The best calligraphy lettering using a marker pen pencil</a>,\n",
       " <a aria-describedby=\"description-id-565824\" class=\" yt-ui-ellipsis yt-ui-ellipsis-2 yt-uix-sessionlink spf-link \" data-sessionlink=\"itct=CDAQlDUYCiITCLTutOzR2d4CFYxGmAodjYoIYCiOHjIKZy1oaWdoLXJjaFoPRkV3aGF0X3RvX3dhdGNo\" dir=\"ltr\" href=\"/watch?v=dYXaxeJBj5k\" title=\"Life-Changing Gift Wrapping Hacks\">Life-Changing Gift Wrapping Hacks</a>,\n",
       " <a aria-describedby=\"description-id-903294\" class=\" yt-ui-ellipsis yt-ui-ellipsis-2 yt-uix-sessionlink spf-link \" data-sessionlink=\"itct=CC8QlDUYCyITCLTutOzR2d4CFYxGmAodjYoIYCiOHjIKZy1oaWdoLXJjaFoPRkV3aGF0X3RvX3dhdGNo\" dir=\"ltr\" href=\"/watch?v=9vIwcYZEgo0\" title=\"DIY Galaxy Stretchy Ice Cream\">DIY Galaxy Stretchy Ice Cream</a>,\n",
       " <a aria-describedby=\"description-id-473716\" class=\" yt-ui-ellipsis yt-ui-ellipsis-2 yt-uix-sessionlink spf-link \" data-sessionlink=\"itct=CCsQlDUYACITCLTutOzR2d4CFYxGmAodjYoIYCiOHjIKZy1oaWdoLXJjaFoPRkV3aGF0X3RvX3dhdGNo\" dir=\"ltr\" href=\"/watch?v=NzWZd0oPU9c\" title=\"Action Movies 2018 - Full Movie (Drama / Action / Mystery)\">Action Movies 2018 - Full Movie (Drama / Action / Mystery)</a>,\n",
       " <a aria-describedby=\"description-id-364182\" class=\" yt-ui-ellipsis yt-ui-ellipsis-2 yt-uix-sessionlink spf-link \" data-sessionlink=\"itct=CCoQlDUYASITCLTutOzR2d4CFYxGmAodjYoIYCiOHjIKZy1oaWdoLXJjaFoPRkV3aGF0X3RvX3dhdGNo\" dir=\"ltr\" href=\"/watch?v=9N98u7zFm4k\" title=\"Hansel and Gretel -  Action, Fantasy, Horror | Full Length Movie |  Jeremy Renner,Tommy Wirkola\">Hansel and Gretel -  Action, Fantasy, Horror | Full Length Movie |  Jeremy Renner,Tommy Wirkola</a>,\n",
       " <a aria-describedby=\"description-id-209652\" class=\" yt-ui-ellipsis yt-ui-ellipsis-2 yt-uix-sessionlink spf-link \" data-sessionlink=\"itct=CCkQlDUYAiITCLTutOzR2d4CFYxGmAodjYoIYCiOHjIKZy1oaWdoLXJjaFoPRkV3aGF0X3RvX3dhdGNo\" dir=\"ltr\" href=\"/watch?v=STr54ys69lc\" title=\"2018 New Martial Arts ACTION Movies - LATEST Chinese Action Kung Fu Movie\">2018 New Martial Arts ACTION Movies - LATEST Chinese Action Kung Fu Movie</a>,\n",
       " <a aria-describedby=\"description-id-988525\" class=\" yt-ui-ellipsis yt-ui-ellipsis-2 yt-uix-sessionlink spf-link \" data-sessionlink=\"itct=CCgQlDUYAyITCLTutOzR2d4CFYxGmAodjYoIYCiOHjIKZy1oaWdoLXJjaFoPRkV3aGF0X3RvX3dhdGNo\" dir=\"ltr\" href=\"/watch?v=68VMf0ry_6Q\" title=\"2018 New Action Movie |  Survival Movie  |  Best Sci Fi Movie | Adventure Full Length Movie\">2018 New Action Movie |  Survival Movie  |  Best Sci Fi Movie | Adventure Full Length Movie</a>,\n",
       " <a aria-describedby=\"description-id-607883\" class=\" yt-ui-ellipsis yt-ui-ellipsis-2 yt-uix-sessionlink spf-link \" data-sessionlink=\"itct=CCcQlDUYBCITCLTutOzR2d4CFYxGmAodjYoIYCiOHjIKZy1oaWdoLXJjaFoPRkV3aGF0X3RvX3dhdGNo\" dir=\"ltr\" href=\"/watch?v=S7r6aqxvhU4\" title=\"Olympus has fallen full movie\">Olympus has fallen full movie</a>,\n",
       " <a aria-describedby=\"description-id-346431\" class=\" yt-ui-ellipsis yt-ui-ellipsis-2 yt-uix-sessionlink spf-link \" data-sessionlink=\"itct=CCYQlDUYBSITCLTutOzR2d4CFYxGmAodjYoIYCiOHjIKZy1oaWdoLXJjaFoPRkV3aGF0X3RvX3dhdGNo\" dir=\"ltr\" href=\"/watch?v=pTNWlRxkcBg\" title=\"Hollywood Movie #Dinotopia In Tamil Dubbed | Ragasiya Theevu Tamil Action Movie Full HD\">Hollywood Movie #Dinotopia In Tamil Dubbed | Ragasiya Theevu Tamil Action Movie Full HD</a>,\n",
       " <a aria-describedby=\"description-id-39903\" class=\" yt-ui-ellipsis yt-ui-ellipsis-2 yt-uix-sessionlink spf-link \" data-sessionlink=\"itct=CCUQlDUYBiITCLTutOzR2d4CFYxGmAodjYoIYCiOHjIKZy1oaWdoLXJjaFoPRkV3aGF0X3RvX3dhdGNo\" dir=\"ltr\" href=\"/watch?v=9Z9XCcFbjTY\" title=\"New Action Movies 2018 Jason Statham Movies Best Adventure Hollywood Full Movies HD\">New Action Movies 2018 Jason Statham Movies Best Adventure Hollywood Full Movies HD</a>,\n",
       " <a aria-describedby=\"description-id-942384\" class=\" yt-ui-ellipsis yt-ui-ellipsis-2 yt-uix-sessionlink spf-link \" data-sessionlink=\"itct=CCEQlDUYACITCLTutOzR2d4CFYxGmAodjYoIYCiOHjIKZy1oaWdoLXJjaFoPRkV3aGF0X3RvX3dhdGNo\" dir=\"ltr\" href=\"/watch?v=5nLWk7kzXgI\" title=\"Japanese Street Food - VENOMOUS SEA SNAKE Okinawa Seafood Japan\">Japanese Street Food - VENOMOUS SEA SNAKE Okinawa Seafood Japan</a>,\n",
       " <a aria-describedby=\"description-id-873334\" class=\" yt-ui-ellipsis yt-ui-ellipsis-2 yt-uix-sessionlink spf-link \" data-sessionlink=\"itct=CCAQlDUYASITCLTutOzR2d4CFYxGmAodjYoIYCiOHjIKZy1oaWdoLXJjaFoPRkV3aGF0X3RvX3dhdGNo\" dir=\"ltr\" href=\"/watch?v=-xb0gIhaWbM\" title=\"Pakistani Street Food - GOAT FEET JACUZZI + Tour of Walled City of Lahore, Pakistan!\">Pakistani Street Food - GOAT FEET JACUZZI + Tour of Walled City of Lahore, Pakistan!</a>,\n",
       " <a aria-describedby=\"description-id-75605\" class=\" yt-ui-ellipsis yt-ui-ellipsis-2 yt-uix-sessionlink spf-link \" data-sessionlink=\"itct=CB8QlDUYAiITCLTutOzR2d4CFYxGmAodjYoIYCiOHjIKZy1oaWdoLXJjaFoPRkV3aGF0X3RvX3dhdGNo\" dir=\"ltr\" href=\"/watch?v=1xvCXYETdOQ\" title=\"EXPERIMENT WAFFLE IRON vs NUTELLA\">EXPERIMENT WAFFLE IRON vs NUTELLA</a>,\n",
       " <a aria-describedby=\"description-id-645258\" class=\" yt-ui-ellipsis yt-ui-ellipsis-2 yt-uix-sessionlink spf-link \" data-sessionlink=\"itct=CB4QlDUYAyITCLTutOzR2d4CFYxGmAodjYoIYCiOHjIKZy1oaWdoLXJjaFoPRkV3aGF0X3RvX3dhdGNo\" dir=\"ltr\" href=\"/watch?v=Xdya8eym9nM\" title=\"Street Food in Pakistan - ULTIMATE 16-HOUR PAKISTANI FOOD Tour in Lahore, Pakistan!\">Street Food in Pakistan - ULTIMATE 16-HOUR PAKISTANI FOOD Tour in Lahore, Pakistan!</a>,\n",
       " <a aria-describedby=\"description-id-530412\" class=\" yt-ui-ellipsis yt-ui-ellipsis-2 yt-uix-sessionlink spf-link \" data-sessionlink=\"itct=CB0QlDUYBCITCLTutOzR2d4CFYxGmAodjYoIYCiOHjIKZy1oaWdoLXJjaFoPRkV3aGF0X3RvX3dhdGNo\" dir=\"ltr\" href=\"/watch?v=fymM6VcMwoI\" title=\"Fast Workers God Level 2018  (with Realistic Sound )\">Fast Workers God Level 2018  (with Realistic Sound )</a>,\n",
       " <a aria-describedby=\"description-id-114798\" class=\" yt-ui-ellipsis yt-ui-ellipsis-2 yt-uix-sessionlink spf-link \" data-sessionlink=\"itct=CBwQlDUYBSITCLTutOzR2d4CFYxGmAodjYoIYCiOHjIKZy1oaWdoLXJjaFoPRkV3aGF0X3RvX3dhdGNo\" dir=\"ltr\" href=\"/watch?v=iXjP9mEdSNo\" title=\"Building an Off Grid Cabin using Free Pallet Wood: A Wilderness Project\">Building an Off Grid Cabin using Free Pallet Wood: A Wilderness Project</a>,\n",
       " <a aria-describedby=\"description-id-625889\" class=\" yt-ui-ellipsis yt-ui-ellipsis-2 yt-uix-sessionlink spf-link \" data-sessionlink=\"itct=CBsQlDUYBiITCLTutOzR2d4CFYxGmAodjYoIYCiOHjIKZy1oaWdoLXJjaFoPRkV3aGF0X3RvX3dhdGNo\" dir=\"ltr\" href=\"/watch?v=C3nA5_8EaOs\" title=\"Extreme Modern Automatic Crab Process Machine, Amazing Smart Crab Processing Machines Factory\">Extreme Modern Automatic Crab Process Machine, Amazing Smart Crab Processing Machines Factory</a>,\n",
       " <a aria-describedby=\"description-id-275675\" class=\" yt-ui-ellipsis yt-ui-ellipsis-2 yt-uix-sessionlink spf-link \" data-sessionlink=\"itct=CBoQlDUYByITCLTutOzR2d4CFYxGmAodjYoIYCiOHjIKZy1oaWdoLXJjaFoPRkV3aGF0X3RvX3dhdGNo\" dir=\"ltr\" href=\"/watch?v=LugNFyF5Eb0\" title=\"3 Day Solo Winter Snow Camp - Bushcraft, Canvas Tent, Woodstove, Bowdrill\">3 Day Solo Winter Snow Camp - Bushcraft, Canvas Tent, Woodstove, Bowdrill</a>,\n",
       " <a aria-describedby=\"description-id-52563\" class=\" yt-ui-ellipsis yt-ui-ellipsis-2 yt-uix-sessionlink spf-link \" data-sessionlink=\"itct=CBkQlDUYCCITCLTutOzR2d4CFYxGmAodjYoIYCiOHjIKZy1oaWdoLXJjaFoPRkV3aGF0X3RvX3dhdGNo\" dir=\"ltr\" href=\"/watch?v=kcbRpLX-mqs\" title=\"30 IDEAS ON HOW TO PLATE FOOD LIKE A CHEF\">30 IDEAS ON HOW TO PLATE FOOD LIKE A CHEF</a>,\n",
       " <a aria-describedby=\"description-id-224173\" class=\" yt-ui-ellipsis yt-ui-ellipsis-2 yt-uix-sessionlink spf-link \" data-sessionlink=\"itct=CBgQlDUYCSITCLTutOzR2d4CFYxGmAodjYoIYCiOHjIKZy1oaWdoLXJjaFoPRkV3aGF0X3RvX3dhdGNo\" dir=\"ltr\" href=\"/watch?v=5_e7EhTJQLU\" title=\"Original Chocolate Jiggly Cake Cutting\">Original Chocolate Jiggly Cake Cutting</a>,\n",
       " <a aria-describedby=\"description-id-741914\" class=\" yt-ui-ellipsis yt-ui-ellipsis-2 yt-uix-sessionlink spf-link \" data-sessionlink=\"itct=CBcQlDUYCiITCLTutOzR2d4CFYxGmAodjYoIYCiOHjIKZy1oaWdoLXJjaFoPRkV3aGF0X3RvX3dhdGNo\" dir=\"ltr\" href=\"/watch?v=GE4zbAE5prw\" title=\"BEST Japanese CURRY! Curry Tour in Tokyo Japan!\">BEST Japanese CURRY! Curry Tour in Tokyo Japan!</a>,\n",
       " <a aria-describedby=\"description-id-277519\" class=\" yt-ui-ellipsis yt-ui-ellipsis-2 yt-uix-sessionlink spf-link \" data-sessionlink=\"itct=CBYQlDUYCyITCLTutOzR2d4CFYxGmAodjYoIYCiOHjIKZy1oaWdoLXJjaFoPRkV3aGF0X3RvX3dhdGNo\" dir=\"ltr\" href=\"/watch?v=9vIwcYZEgo0\" title=\"DIY Galaxy Stretchy Ice Cream\">DIY Galaxy Stretchy Ice Cream</a>,\n",
       " <a aria-describedby=\"description-id-470505\" class=\" yt-ui-ellipsis yt-ui-ellipsis-2 yt-uix-sessionlink spf-link \" data-sessionlink=\"itct=CBUQlDUYDCITCLTutOzR2d4CFYxGmAodjYoIYCiOHjIKZy1oaWdoLXJjaFoPRkV3aGF0X3RvX3dhdGNo\" dir=\"ltr\" href=\"/watch?v=MhCiU65RwcI\" title=\"Trying 13 WEIRD Food Combos People LIED ABOUT | Alonzo Lerone\">Trying 13 WEIRD Food Combos People LIED ABOUT | Alonzo Lerone</a>,\n",
       " <a aria-describedby=\"description-id-761782\" class=\" yt-ui-ellipsis yt-ui-ellipsis-2 yt-uix-sessionlink spf-link \" data-sessionlink=\"itct=CBMQlDUYDSITCLTutOzR2d4CFYxGmAodjYoIYCiOHjIKZy1oaWdoLXJjaFoPRkV3aGF0X3RvX3dhdGNo\" dir=\"ltr\" href=\"/watch?v=2Sl_9VMeAWg\" title=\"Pastry Chef Attempts to Make Gourmet Sno Balls | Gourmet Makes | Bon Appétit\">Pastry Chef Attempts to Make Gourmet Sno Balls | Gourmet Makes | Bon Appétit</a>]"
      ]
     },
     "execution_count": 12,
     "metadata": {},
     "output_type": "execute_result"
    }
   ],
   "source": [
    "links"
   ]
  },
  {
   "cell_type": "markdown",
   "metadata": {},
   "source": [
    "The actual link is specified in the href attribute, we simply use a list comprehension to append the youtube adresss to every link in the list."
   ]
  },
  {
   "cell_type": "code",
   "execution_count": 25,
   "metadata": {
    "scrolled": false
   },
   "outputs": [],
   "source": [
    "video_links = ['http://www.youtube.com'+link['href'] for link in links]"
   ]
  },
  {
   "cell_type": "code",
   "execution_count": 26,
   "metadata": {
    "scrolled": false
   },
   "outputs": [
    {
     "data": {
      "text/plain": [
       "['http://www.youtube.com/watch?v=irVIUvDTTB0',\n",
       " 'http://www.youtube.com/watch?v=iTOQuIqAWEQ',\n",
       " 'http://www.youtube.com/watch?v=tDsfZVrs3j8',\n",
       " 'http://www.youtube.com/watch?v=WXdl3mpCbz4',\n",
       " 'http://www.youtube.com/watch?v=1roy4o4tqQM',\n",
       " 'http://www.youtube.com/watch?v=If8L0Zaskq0',\n",
       " 'http://www.youtube.com/watch?v=uRDQV5UehKg',\n",
       " 'http://www.youtube.com/watch?v=h04NnnUApaM',\n",
       " 'http://www.youtube.com/watch?v=U68MJz9DrI4',\n",
       " 'http://www.youtube.com/watch?v=kN0iD0pI3o0',\n",
       " 'http://www.youtube.com/watch?v=_GAfZaI3Jl0',\n",
       " 'http://www.youtube.com/watch?v=bZDCZXtIIx0',\n",
       " 'http://www.youtube.com/watch?v=J0Vrf_y5pr4',\n",
       " 'http://www.youtube.com/watch?v=XXHvXBmTgRs',\n",
       " 'http://www.youtube.com/watch?v=MGlqbo8dT4A',\n",
       " 'http://www.youtube.com/watch?v=zPi1SFY_5vM',\n",
       " 'http://www.youtube.com/watch?v=aQjX3VCpxAo',\n",
       " 'http://www.youtube.com/watch?v=QG9UsDW4g58',\n",
       " 'http://www.youtube.com/watch?v=lM8Zep-3TI4',\n",
       " 'http://www.youtube.com/watch?v=m8wxThxOiYQ',\n",
       " 'http://www.youtube.com/watch?v=O38szm9KllM',\n",
       " 'http://www.youtube.com/watch?v=D9prVcyDDWU',\n",
       " 'http://www.youtube.com/watch?v=abG3OQ8eUxU',\n",
       " 'http://www.youtube.com/watch?v=a-wLcSKgiFE',\n",
       " 'http://www.youtube.com/watch?v=i8RwFHXQXUg',\n",
       " 'http://www.youtube.com/watch?v=N0sYBcM3bBA',\n",
       " 'http://www.youtube.com/watch?v=zVq36yhpxzU',\n",
       " 'http://www.youtube.com/watch?v=hAW-Yoza2eM',\n",
       " 'http://www.youtube.com/watch?v=5tOgJqXTiiM',\n",
       " 'http://www.youtube.com/watch?v=hl-WDxx1rpE',\n",
       " 'http://www.youtube.com/watch?v=XyKegi4c7ig',\n",
       " 'http://www.youtube.com/watch?v=OA6x0C6XxcY',\n",
       " 'http://www.youtube.com/watch?v=NdkLOwYYfpA',\n",
       " 'http://www.youtube.com/watch?v=gzSEONnq4Wc',\n",
       " 'http://www.youtube.com/watch?v=TOZI2hFZEeA',\n",
       " 'http://www.youtube.com/watch?v=v5BiGkW0XXQ',\n",
       " 'http://www.youtube.com/watch?v=omTszbyuOEM',\n",
       " 'http://www.youtube.com/watch?v=rckHSUhcXec',\n",
       " 'http://www.youtube.com/watch?v=01fQMZbN6tQ',\n",
       " 'http://www.youtube.com/watch?v=9wN2RcAPhqA',\n",
       " 'http://www.youtube.com/watch?v=JoLEIiza9Bc',\n",
       " 'http://www.youtube.com/watch?v=WGuFofNF1Pk',\n",
       " 'http://www.youtube.com/watch?v=NZgf1VsbsO4',\n",
       " 'http://www.youtube.com/watch?v=n5GF7V7rEGU',\n",
       " 'http://www.youtube.com/watch?v=5gnk5eY-5ao',\n",
       " 'http://www.youtube.com/watch?v=KBcNfIwnJK4',\n",
       " 'http://www.youtube.com/watch?v=zJVmxKR2_3w',\n",
       " 'http://www.youtube.com/watch?v=DNh_2BHVJo4',\n",
       " 'http://www.youtube.com/watch?v=Ggdd-BEtunA',\n",
       " 'http://www.youtube.com/watch?v=3KZbKiFQZD4',\n",
       " 'http://www.youtube.com/watch?v=ESEYv86NNvw',\n",
       " 'http://www.youtube.com/watch?v=JRn0_U7M5gQ',\n",
       " 'http://www.youtube.com/watch?v=WDGd-lzQU4U',\n",
       " 'http://www.youtube.com/watch?v=LOvqztX0M5I',\n",
       " 'http://www.youtube.com/watch?v=_W_i6jNOvFI',\n",
       " 'http://www.youtube.com/watch?v=s2jWVbX7sPk',\n",
       " 'http://www.youtube.com/watch?v=kvm2sqngwrE',\n",
       " 'http://www.youtube.com/watch?v=oAVbBtgFX_Y',\n",
       " 'http://www.youtube.com/watch?v=xfHwpZVDg8U',\n",
       " 'http://www.youtube.com/watch?v=uMOt1OshOJ8',\n",
       " 'http://www.youtube.com/watch?v=kcbRpLX-mqs',\n",
       " 'http://www.youtube.com/watch?v=WS7GhAp-fGM',\n",
       " 'http://www.youtube.com/watch?v=as1vvKV6E6s',\n",
       " 'http://www.youtube.com/watch?v=ZD8t7vS6w9E',\n",
       " 'http://www.youtube.com/watch?v=dYXaxeJBj5k',\n",
       " 'http://www.youtube.com/watch?v=9vIwcYZEgo0',\n",
       " 'http://www.youtube.com/watch?v=NzWZd0oPU9c',\n",
       " 'http://www.youtube.com/watch?v=9N98u7zFm4k',\n",
       " 'http://www.youtube.com/watch?v=STr54ys69lc',\n",
       " 'http://www.youtube.com/watch?v=68VMf0ry_6Q',\n",
       " 'http://www.youtube.com/watch?v=S7r6aqxvhU4',\n",
       " 'http://www.youtube.com/watch?v=pTNWlRxkcBg',\n",
       " 'http://www.youtube.com/watch?v=9Z9XCcFbjTY',\n",
       " 'http://www.youtube.com/watch?v=5nLWk7kzXgI',\n",
       " 'http://www.youtube.com/watch?v=-xb0gIhaWbM',\n",
       " 'http://www.youtube.com/watch?v=1xvCXYETdOQ',\n",
       " 'http://www.youtube.com/watch?v=Xdya8eym9nM',\n",
       " 'http://www.youtube.com/watch?v=fymM6VcMwoI',\n",
       " 'http://www.youtube.com/watch?v=iXjP9mEdSNo',\n",
       " 'http://www.youtube.com/watch?v=C3nA5_8EaOs',\n",
       " 'http://www.youtube.com/watch?v=LugNFyF5Eb0',\n",
       " 'http://www.youtube.com/watch?v=kcbRpLX-mqs',\n",
       " 'http://www.youtube.com/watch?v=5_e7EhTJQLU',\n",
       " 'http://www.youtube.com/watch?v=GE4zbAE5prw',\n",
       " 'http://www.youtube.com/watch?v=9vIwcYZEgo0',\n",
       " 'http://www.youtube.com/watch?v=MhCiU65RwcI',\n",
       " 'http://www.youtube.com/watch?v=2Sl_9VMeAWg']"
      ]
     },
     "execution_count": 26,
     "metadata": {},
     "output_type": "execute_result"
    }
   ],
   "source": [
    "video_links"
   ]
  },
  {
   "cell_type": "markdown",
   "metadata": {},
   "source": [
    "Now we want to get the first video link and dispaly it, we do that by get extracting the first video link and we get the actual id for the video by doing some string splicing."
   ]
  },
  {
   "cell_type": "code",
   "execution_count": 18,
   "metadata": {
    "scrolled": false
   },
   "outputs": [],
   "source": [
    "first_video = video_links[0]\n",
    "video_id = first_video[first_video.find('v')+2:]"
   ]
  },
  {
   "cell_type": "code",
   "execution_count": 19,
   "metadata": {
    "scrolled": false
   },
   "outputs": [
    {
     "data": {
      "text/plain": [
       "'irVIUvDTTB0'"
      ]
     },
     "execution_count": 19,
     "metadata": {},
     "output_type": "execute_result"
    }
   ],
   "source": [
    "video_id"
   ]
  },
  {
   "cell_type": "code",
   "execution_count": 22,
   "metadata": {
    "scrolled": false
   },
   "outputs": [
    {
     "data": {
      "text/html": [
       "<iframe width=\"560\" height=\"315\" src=\"https://www.youtube.com/embed/irVIUvDTTB0?rel=0&amp;controls=0&amp;showinfo=0\" frameborder=\"0\" allowfullscreen></iframe>"
      ],
      "text/plain": [
       "<IPython.core.display.HTML object>"
      ]
     },
     "execution_count": 22,
     "metadata": {},
     "output_type": "execute_result"
    }
   ],
   "source": [
    "HTML('<iframe width=\"560\" height=\"315\" src=\"https://www.youtube.com/embed/'+video_id+'?rel=0&amp;controls=0&amp;showinfo=0\" frameborder=\"0\" allowfullscreen></iframe>')"
   ]
  },
  {
   "cell_type": "code",
   "execution_count": null,
   "metadata": {
    "scrolled": false
   },
   "outputs": [],
   "source": []
  }
 ],
 "metadata": {
  "kernelspec": {
   "display_name": "webscrape",
   "language": "python",
   "name": "webscrape"
  },
  "language_info": {
   "codemirror_mode": {
    "name": "ipython",
    "version": 3
   },
   "file_extension": ".py",
   "mimetype": "text/x-python",
   "name": "python",
   "nbconvert_exporter": "python",
   "pygments_lexer": "ipython3",
   "version": "3.6.5"
  }
 },
 "nbformat": 4,
 "nbformat_minor": 2
}
